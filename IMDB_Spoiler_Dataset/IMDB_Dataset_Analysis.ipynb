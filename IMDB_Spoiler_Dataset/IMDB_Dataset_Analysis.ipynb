{
 "cells": [
  {
   "cell_type": "markdown",
   "id": "8c595249-c253-4d01-81c0-5090761dfd2b",
   "metadata": {},
   "source": [
    "### We have used a lot of libraries in our project, thats a short description:\n",
    "Numpy has been used for the linear algebra operations\n",
    "\n",
    "Pandas has been used for the data processing and the I/O of the data\n",
    "\n",
    "NLTK raggroups all the Natural Language Processing techniques\n",
    "\n",
    "Pandarell has been used to parallelize the computation on pandas dataframes\n",
    "\n",
    "Unicode, re and string have been used to process the string\n",
    "\n",
    "Statistics has been used to compute some analysis\n",
    "\n",
    "Datatime is a library that includes operations on timestamps\n",
    "\n",
    "Contractions has been used to expand contractions in text cleaning"
   ]
  },
  {
   "cell_type": "code",
   "execution_count": 1,
   "id": "01d37cbc-5aed-497d-9580-e10127381844",
   "metadata": {
    "scrolled": true
   },
   "outputs": [],
   "source": [
    "import numpy as np # linear algebra\n",
    "import pandas as pd # data processing, CSV file I/O (e.g. pd.read_csv)"
   ]
  },
  {
   "cell_type": "code",
   "execution_count": 2,
   "id": "dfd5b0ff-9105-4a34-8c23-8510f2d3c9d5",
   "metadata": {},
   "outputs": [
    {
     "name": "stderr",
     "output_type": "stream",
     "text": [
      "[nltk_data] Downloading package words to\n",
      "[nltk_data]     C:\\Users\\ganes\\AppData\\Roaming\\nltk_data...\n",
      "[nltk_data]   Package words is already up-to-date!\n"
     ]
    },
    {
     "data": {
      "text/plain": [
       "True"
      ]
     },
     "execution_count": 2,
     "metadata": {},
     "output_type": "execute_result"
    }
   ],
   "source": [
    "import matplotlib.pyplot as plt # Used to do plots\n",
    "%matplotlib inline\n",
    "\n",
    "import nltk \n",
    "from nltk.corpus import stopwords # Stopwords \n",
    "from nltk.tokenize import word_tokenize # Word_tokenizer\n",
    "from nltk.stem.porter import PorterStemmer\n",
    "from pattern.text.en import singularize\n",
    "\n",
    "from pandarallel import pandarallel # Parallel workers on pandas dataframe\n",
    "\n",
    "import unidecode\n",
    "import re \n",
    "import time\n",
    "import string\n",
    "import statistics\n",
    "\n",
    "from datetime import datetime\n",
    "\n",
    "import contractions\n",
    "\n",
    "import nltk\n",
    "nltk.download('words')"
   ]
  },
  {
   "cell_type": "code",
   "execution_count": 3,
   "id": "b40e0153-b01d-4eae-9e5f-695608f96beb",
   "metadata": {},
   "outputs": [
    {
     "name": "stdout",
     "output_type": "stream",
     "text": [
      "INFO: Pandarallel will run on 8 workers.\n",
      "INFO: Pandarallel will use standard multiprocessing data transfer (pipe) to transfer data between the main process and workers.\n",
      "\n",
      "WARNING: You are on Windows. If you detect any issue with pandarallel, be sure you checked out the Troubleshooting page:\n",
      "https://nalepae.github.io/pandarallel/troubleshooting/\n"
     ]
    }
   ],
   "source": [
    "stop = stopwords.words('english') # Set of stopwords\n",
    "words = set(nltk.corpus.words.words()) # Set of meaniningful words\n",
    "pandarallel.initialize(nb_workers=8) # Describes how much processors to use in pandas parallel computations"
   ]
  },
  {
   "cell_type": "markdown",
   "id": "0ebba32e-6108-4390-a167-00f8d2c792f8",
   "metadata": {},
   "source": [
    "### DATASET LOADING AND OVERVIEW\n",
    "In this section we have performed the operation of loading the dataset and analyze its characteristics. \\ We have loaded the dataset from a JSON file using Pandas and analyzed his shape, first n values and columns info."
   ]
  },
  {
   "cell_type": "code",
   "execution_count": 4,
   "id": "bf7972ad-01bd-4bfe-bf89-865841b13076",
   "metadata": {},
   "outputs": [
    {
     "name": "stdout",
     "output_type": "stream",
     "text": [
      "User reviews shape:  (573913, 7)\n"
     ]
    }
   ],
   "source": [
    "# Read the json file and load it as dataframe \n",
    "df_reviews = pd.read_json('IMDB_reviews.json', lines=True) \n",
    "# Print datasets shape\n",
    "print('User reviews shape: ', df_reviews.shape)"
   ]
  },
  {
   "cell_type": "code",
   "execution_count": 5,
   "id": "c8b5c14d-904f-42d8-af4e-d05f87ecffc4",
   "metadata": {},
   "outputs": [
    {
     "data": {
      "text/html": [
       "<div>\n",
       "<style scoped>\n",
       "    .dataframe tbody tr th:only-of-type {\n",
       "        vertical-align: middle;\n",
       "    }\n",
       "\n",
       "    .dataframe tbody tr th {\n",
       "        vertical-align: top;\n",
       "    }\n",
       "\n",
       "    .dataframe thead th {\n",
       "        text-align: right;\n",
       "    }\n",
       "</style>\n",
       "<table border=\"1\" class=\"dataframe\">\n",
       "  <thead>\n",
       "    <tr style=\"text-align: right;\">\n",
       "      <th></th>\n",
       "      <th>review_date</th>\n",
       "      <th>movie_id</th>\n",
       "      <th>user_id</th>\n",
       "      <th>is_spoiler</th>\n",
       "      <th>review_text</th>\n",
       "      <th>rating</th>\n",
       "      <th>review_summary</th>\n",
       "    </tr>\n",
       "  </thead>\n",
       "  <tbody>\n",
       "    <tr>\n",
       "      <th>0</th>\n",
       "      <td>10 February 2006</td>\n",
       "      <td>tt0111161</td>\n",
       "      <td>ur1898687</td>\n",
       "      <td>True</td>\n",
       "      <td>In its Oscar year, Shawshank Redemption (writt...</td>\n",
       "      <td>10</td>\n",
       "      <td>A classic piece of unforgettable film-making.</td>\n",
       "    </tr>\n",
       "    <tr>\n",
       "      <th>1</th>\n",
       "      <td>6 September 2000</td>\n",
       "      <td>tt0111161</td>\n",
       "      <td>ur0842118</td>\n",
       "      <td>True</td>\n",
       "      <td>The Shawshank Redemption is without a doubt on...</td>\n",
       "      <td>10</td>\n",
       "      <td>Simply amazing. The best film of the 90's.</td>\n",
       "    </tr>\n",
       "    <tr>\n",
       "      <th>2</th>\n",
       "      <td>3 August 2001</td>\n",
       "      <td>tt0111161</td>\n",
       "      <td>ur1285640</td>\n",
       "      <td>True</td>\n",
       "      <td>I believe that this film is the best story eve...</td>\n",
       "      <td>8</td>\n",
       "      <td>The best story ever told on film</td>\n",
       "    </tr>\n",
       "    <tr>\n",
       "      <th>3</th>\n",
       "      <td>1 September 2002</td>\n",
       "      <td>tt0111161</td>\n",
       "      <td>ur1003471</td>\n",
       "      <td>True</td>\n",
       "      <td>**Yes, there are SPOILERS here**This film has ...</td>\n",
       "      <td>10</td>\n",
       "      <td>Busy dying or busy living?</td>\n",
       "    </tr>\n",
       "    <tr>\n",
       "      <th>4</th>\n",
       "      <td>20 May 2004</td>\n",
       "      <td>tt0111161</td>\n",
       "      <td>ur0226855</td>\n",
       "      <td>True</td>\n",
       "      <td>At the heart of this extraordinary movie is a ...</td>\n",
       "      <td>8</td>\n",
       "      <td>Great story, wondrously told and acted</td>\n",
       "    </tr>\n",
       "  </tbody>\n",
       "</table>\n",
       "</div>"
      ],
      "text/plain": [
       "        review_date   movie_id    user_id  is_spoiler  \\\n",
       "0  10 February 2006  tt0111161  ur1898687        True   \n",
       "1  6 September 2000  tt0111161  ur0842118        True   \n",
       "2     3 August 2001  tt0111161  ur1285640        True   \n",
       "3  1 September 2002  tt0111161  ur1003471        True   \n",
       "4       20 May 2004  tt0111161  ur0226855        True   \n",
       "\n",
       "                                         review_text  rating  \\\n",
       "0  In its Oscar year, Shawshank Redemption (writt...      10   \n",
       "1  The Shawshank Redemption is without a doubt on...      10   \n",
       "2  I believe that this film is the best story eve...       8   \n",
       "3  **Yes, there are SPOILERS here**This film has ...      10   \n",
       "4  At the heart of this extraordinary movie is a ...       8   \n",
       "\n",
       "                                  review_summary  \n",
       "0  A classic piece of unforgettable film-making.  \n",
       "1     Simply amazing. The best film of the 90's.  \n",
       "2               The best story ever told on film  \n",
       "3                     Busy dying or busy living?  \n",
       "4         Great story, wondrously told and acted  "
      ]
     },
     "execution_count": 5,
     "metadata": {},
     "output_type": "execute_result"
    }
   ],
   "source": [
    "# Get an idea about the reviews dataset\n",
    "df_reviews.head()"
   ]
  },
  {
   "cell_type": "code",
   "execution_count": 6,
   "id": "1923e7ab-fe7f-4613-a9c4-30ee8ee90a21",
   "metadata": {},
   "outputs": [
    {
     "name": "stdout",
     "output_type": "stream",
     "text": [
      "<class 'pandas.core.frame.DataFrame'>\n",
      "RangeIndex: 573913 entries, 0 to 573912\n",
      "Data columns (total 7 columns):\n",
      " #   Column          Non-Null Count   Dtype \n",
      "---  ------          --------------   ----- \n",
      " 0   review_date     573913 non-null  object\n",
      " 1   movie_id        573913 non-null  object\n",
      " 2   user_id         573913 non-null  object\n",
      " 3   is_spoiler      573913 non-null  bool  \n",
      " 4   review_text     573913 non-null  object\n",
      " 5   rating          573913 non-null  int64 \n",
      " 6   review_summary  573913 non-null  object\n",
      "dtypes: bool(1), int64(1), object(5)\n",
      "memory usage: 26.8+ MB\n"
     ]
    }
   ],
   "source": [
    "# Analyze the type of the columns and non-null values of them\n",
    "df_reviews.info()"
   ]
  },
  {
   "cell_type": "markdown",
   "id": "fef90652-aa19-4c37-afe3-f7da5fa420c3",
   "metadata": {},
   "source": [
    "### DATA ANALYSIS\n",
    "In this section we have analyzed the data of the dataset in order to better understand how the dataset was composed.\n",
    "\n",
    "#### Dataset Distribution¶\n",
    "First of all we have analyzed how the two classes are distributed in the dataset."
   ]
  },
  {
   "cell_type": "code",
   "execution_count": 7,
   "id": "d94a010b-1baa-42b1-a064-16948d39ac32",
   "metadata": {},
   "outputs": [
    {
     "name": "stdout",
     "output_type": "stream",
     "text": [
      "Percentage distribution in the dataset of spoilers and not spoilers \n",
      "\n",
      "is_spoiler\n",
      "False    73.7\n",
      "True     26.3\n",
      "Name: proportion, dtype: float64\n"
     ]
    },
    {
     "data": {
      "image/png": "[encoded data removed]",
      "text/plain": [
       "<Figure size 640x480 with 1 Axes>"
      ]
     },
     "metadata": {},
     "output_type": "display_data"
    }
   ],
   "source": [
    "import matplotlib.pyplot as plt\n",
    "\n",
    "# Print the percentage distribution in the dataset of spoilers and not spoilers\n",
    "print('Percentage distribution in the dataset of spoilers and not spoilers \\n')\n",
    "\n",
    "# Compute the percentage distribution between classes\n",
    "spoiler_distribution = round(df_reviews.is_spoiler.value_counts(normalize=True) * 100, 2)\n",
    "print(spoiler_distribution)\n",
    "\n",
    "# Plot the distribution between classes\n",
    "ax = spoiler_distribution.plot(kind='bar')\n",
    "\n",
    "# Add the percentage values on top of the bars\n",
    "for i, val in enumerate(spoiler_distribution):\n",
    "    ax.text(i, val, f'{val}%', ha='center', va='bottom')\n",
    "\n",
    "# Add title and show the plot\n",
    "plt.title('Distributions')\n",
    "plt.show()"
   ]
  },
  {
   "cell_type": "markdown",
   "id": "023a2564-c741-44c2-be34-abf4f2a0dc67",
   "metadata": {},
   "source": [
    "As we can see, the dataset is a little imbalanced: 73.7% of the reviews are not spoiler and 26.3% of the reviews are spoiler.\n",
    "\n",
    "### Check missing values\n",
    "We have analyzed if the dataset had some null values to handle and we didn't found any of them."
   ]
  },
  {
   "cell_type": "code",
   "execution_count": 8,
   "id": "2ada464c-fc85-447c-8992-85fb3d517023",
   "metadata": {},
   "outputs": [
    {
     "data": {
      "text/plain": [
       "review_date       0.0\n",
       "movie_id          0.0\n",
       "user_id           0.0\n",
       "is_spoiler        0.0\n",
       "review_text       0.0\n",
       "rating            0.0\n",
       "review_summary    0.0\n",
       "dtype: float64"
      ]
     },
     "execution_count": 8,
     "metadata": {},
     "output_type": "execute_result"
    }
   ],
   "source": [
    "# Count missing values for each column\n",
    "count = df_reviews.isnull().sum().sort_values(ascending=False)\n",
    "\n",
    "# Compute percentage \n",
    "percentage = ((df_reviews.isnull().sum()/len(df_reviews)*100)).sort_values(ascending=False)\n",
    "percentage"
   ]
  },
  {
   "cell_type": "code",
   "execution_count": 9,
   "id": "a760f313-ddc4-4ef2-b37e-f02e2b40e0b0",
   "metadata": {},
   "outputs": [
    {
     "name": "stdout",
     "output_type": "stream",
     "text": [
      "                Count  Percentage\n",
      "review_date         0         0.0\n",
      "movie_id            0         0.0\n",
      "user_id             0         0.0\n",
      "is_spoiler          0         0.0\n",
      "review_text         0         0.0\n",
      "rating              0         0.0\n",
      "review_summary      0         0.0\n"
     ]
    }
   ],
   "source": [
    "# Concatenate count and percentage arrays and print them \n",
    "missing_data = pd.concat([count,percentage],axis=1, keys=['Count','Percentage'])\n",
    "\n",
    "print(missing_data)"
   ]
  },
  {
   "cell_type": "markdown",
   "id": "4f374f6c-28bc-45a7-a17d-c5d81e4d5e7b",
   "metadata": {},
   "source": [
    "### Percentage of spoiler for rating level\n",
    "We have analyzed if the review's rating was a spoiler factor. We have done this operation processing the percentage of spoiler in each of the rating compared to the total number of reviews for each rating."
   ]
  },
  {
   "cell_type": "code",
   "execution_count": 10,
   "id": "437248a5-be00-4a69-b020-7f296a46d6e7",
   "metadata": {},
   "outputs": [
    {
     "name": "stdout",
     "output_type": "stream",
     "text": [
      "[10  8  9  7  1  3  6  5  4  2]\n"
     ]
    }
   ],
   "source": [
    "unique_ratings = df_reviews['rating'].unique()\n",
    "print(unique_ratings)"
   ]
  },
  {
   "cell_type": "code",
   "execution_count": 11,
   "id": "cf8f03a0-92ec-4c22-8111-2ea46eae47d8",
   "metadata": {},
   "outputs": [],
   "source": [
    "group = df_reviews.groupby('rating') # Groupby rating\n",
    " # Get only the spoiler reviews and group them by rating\n",
    "group_is_spoiler = df_reviews[df_reviews['is_spoiler'] == True].groupby('rating')\n",
    "tot_review_for_vote = group.size() # Get the number of reviews foreach vote\n",
    "tot_spoiler_for_vote = group_is_spoiler.size() # Get the number of spoiler review foreach vote\n",
    "percentage = ((tot_spoiler_for_vote / tot_review_for_vote) * 100) # Compute the %"
   ]
  },
  {
   "cell_type": "code",
   "execution_count": 12,
   "id": "a5879f80-c98a-41b2-bc76-425f8561a201",
   "metadata": {},
   "outputs": [
    {
     "data": {
      "text/plain": [
       "rating\n",
       "1     30.380879\n",
       "2     33.284108\n",
       "3     33.372723\n",
       "4     33.023517\n",
       "5     31.768619\n",
       "6     29.355592\n",
       "7     26.900651\n",
       "8     25.327511\n",
       "9     24.192399\n",
       "10    20.832511\n",
       "dtype: float64"
      ]
     },
     "execution_count": 12,
     "metadata": {},
     "output_type": "execute_result"
    }
   ],
   "source": [
    "percentage = ((tot_spoiler_for_vote / tot_review_for_vote) * 100) # Compute the %\n",
    "percentage"
   ]
  },
  {
   "cell_type": "code",
   "execution_count": 13,
   "id": "b4103692-01b4-488e-b7f1-74f0b759f704",
   "metadata": {},
   "outputs": [
    {
     "data": {
      "text/plain": [
       "[30.380879345603272,\n",
       " 33.284108231707314,\n",
       " 33.37272319791369,\n",
       " 33.023516686030206,\n",
       " 31.768619478839398,\n",
       " 29.35559154124595,\n",
       " 26.900650731267316,\n",
       " 25.327510917030565,\n",
       " 24.192399341636573,\n",
       " 20.832510671904465]"
      ]
     },
     "execution_count": 13,
     "metadata": {},
     "output_type": "execute_result"
    }
   ],
   "source": [
    "# Print % graph\n",
    "y_axis = ['1', '2', '3', '4', '5', '6','7','8','9','10']\n",
    "x_axis = percentage.tolist()\n",
    "x_axis"
   ]
  },
  {
   "cell_type": "code",
   "execution_count": 14,
   "id": "3e877ff2-8cd4-4f8e-a33a-c6b3f68fedf2",
   "metadata": {},
   "outputs": [
    {
     "data": {
      "image/png": "[encoded data removed]",
      "text/plain": [
       "<Figure size 640x480 with 1 Axes>"
      ]
     },
     "metadata": {},
     "output_type": "display_data"
    }
   ],
   "source": [
    "plt.barh(y_axis,x_axis,color=['red','cyan','blue','purple','lime','magenta','orange','brown','silver','Green'])\n",
    "plt.xlim(0,100)\n",
    "plt.title('Percentage of spoiler reviews per rating')\n",
    "plt.ylabel('Ratings')\n",
    "plt.xlabel('Percentages')\n",
    "plt.show()"
   ]
  },
  {
   "cell_type": "markdown",
   "id": "d01f886b-8ce0-4a9c-8ff7-37079dc31d0b",
   "metadata": {},
   "source": [
    "We have found that with the increase of the rating value the percentage of spoiler decreases a little.\n",
    "\n",
    "### Checking spoiler distribution for some selected words\n",
    "We have compared some classic spoiler words, which are \"spoiler\", \"die\" and \"win\" in our case, counting the number of spoiler (and not) reviews that contains that word in relation to the total number of reviews in the dataset."
   ]
  },
  {
   "cell_type": "code",
   "execution_count": 15,
   "id": "b10e4e61-a591-4c32-bea9-908f6493bdfd",
   "metadata": {},
   "outputs": [
    {
     "data": {
      "text/html": [
       "<div>\n",
       "<style scoped>\n",
       "    .dataframe tbody tr th:only-of-type {\n",
       "        vertical-align: middle;\n",
       "    }\n",
       "\n",
       "    .dataframe tbody tr th {\n",
       "        vertical-align: top;\n",
       "    }\n",
       "\n",
       "    .dataframe thead th {\n",
       "        text-align: right;\n",
       "    }\n",
       "</style>\n",
       "<table border=\"1\" class=\"dataframe\">\n",
       "  <thead>\n",
       "    <tr style=\"text-align: right;\">\n",
       "      <th></th>\n",
       "      <th>review_date</th>\n",
       "      <th>movie_id</th>\n",
       "      <th>user_id</th>\n",
       "      <th>is_spoiler</th>\n",
       "      <th>review_text</th>\n",
       "      <th>rating</th>\n",
       "      <th>review_summary</th>\n",
       "    </tr>\n",
       "  </thead>\n",
       "  <tbody>\n",
       "    <tr>\n",
       "      <th>0</th>\n",
       "      <td>10 February 2006</td>\n",
       "      <td>tt0111161</td>\n",
       "      <td>ur1898687</td>\n",
       "      <td>True</td>\n",
       "      <td>In its Oscar year, Shawshank Redemption (writt...</td>\n",
       "      <td>10</td>\n",
       "      <td>A classic piece of unforgettable film-making.</td>\n",
       "    </tr>\n",
       "    <tr>\n",
       "      <th>1</th>\n",
       "      <td>6 September 2000</td>\n",
       "      <td>tt0111161</td>\n",
       "      <td>ur0842118</td>\n",
       "      <td>True</td>\n",
       "      <td>The Shawshank Redemption is without a doubt on...</td>\n",
       "      <td>10</td>\n",
       "      <td>Simply amazing. The best film of the 90's.</td>\n",
       "    </tr>\n",
       "    <tr>\n",
       "      <th>2</th>\n",
       "      <td>3 August 2001</td>\n",
       "      <td>tt0111161</td>\n",
       "      <td>ur1285640</td>\n",
       "      <td>True</td>\n",
       "      <td>I believe that this film is the best story eve...</td>\n",
       "      <td>8</td>\n",
       "      <td>The best story ever told on film</td>\n",
       "    </tr>\n",
       "    <tr>\n",
       "      <th>3</th>\n",
       "      <td>1 September 2002</td>\n",
       "      <td>tt0111161</td>\n",
       "      <td>ur1003471</td>\n",
       "      <td>True</td>\n",
       "      <td>**Yes, there are SPOILERS here**This film has ...</td>\n",
       "      <td>10</td>\n",
       "      <td>Busy dying or busy living?</td>\n",
       "    </tr>\n",
       "    <tr>\n",
       "      <th>4</th>\n",
       "      <td>20 May 2004</td>\n",
       "      <td>tt0111161</td>\n",
       "      <td>ur0226855</td>\n",
       "      <td>True</td>\n",
       "      <td>At the heart of this extraordinary movie is a ...</td>\n",
       "      <td>8</td>\n",
       "      <td>Great story, wondrously told and acted</td>\n",
       "    </tr>\n",
       "  </tbody>\n",
       "</table>\n",
       "</div>"
      ],
      "text/plain": [
       "        review_date   movie_id    user_id  is_spoiler  \\\n",
       "0  10 February 2006  tt0111161  ur1898687        True   \n",
       "1  6 September 2000  tt0111161  ur0842118        True   \n",
       "2     3 August 2001  tt0111161  ur1285640        True   \n",
       "3  1 September 2002  tt0111161  ur1003471        True   \n",
       "4       20 May 2004  tt0111161  ur0226855        True   \n",
       "\n",
       "                                         review_text  rating  \\\n",
       "0  In its Oscar year, Shawshank Redemption (writt...      10   \n",
       "1  The Shawshank Redemption is without a doubt on...      10   \n",
       "2  I believe that this film is the best story eve...       8   \n",
       "3  **Yes, there are SPOILERS here**This film has ...      10   \n",
       "4  At the heart of this extraordinary movie is a ...       8   \n",
       "\n",
       "                                  review_summary  \n",
       "0  A classic piece of unforgettable film-making.  \n",
       "1     Simply amazing. The best film of the 90's.  \n",
       "2               The best story ever told on film  \n",
       "3                     Busy dying or busy living?  \n",
       "4         Great story, wondrously told and acted  "
      ]
     },
     "execution_count": 15,
     "metadata": {},
     "output_type": "execute_result"
    }
   ],
   "source": [
    "df_reviews.head()"
   ]
  },
  {
   "cell_type": "code",
   "execution_count": 16,
   "id": "53a7b87f-23ff-4db4-a9c4-3a227dec2b06",
   "metadata": {},
   "outputs": [],
   "source": [
    "def compare_review_by_word(word,df_reviews):\n",
    "    \n",
    "    # Create the name for the column that will be added to the dataset\n",
    "    column_name = 'contains_word_' + word \n",
    "    # Filtering reviews that contains the word \"word\"\n",
    "    df_reviews[column_name] = df_reviews['review_text'].apply(lambda x: word.lower() in x.lower()) \n",
    "    \n",
    "    # Count the number of reviews that contains the word \"word\"\n",
    "    n_reviews_with_word = df_reviews[df_reviews[column_name] == True].shape[0]\n",
    "    # Count the number of reviews that are spoiler and contains the word \"word\"\n",
    "    spoilers_with_word = df_reviews[(df_reviews['is_spoiler'] == True) & (df_reviews[column_name] == True)].shape[0]\n",
    "    # Count the number of reviews that are NOT spoiler and contains the word \"word\"\n",
    "    not_spoilers_with_word = df_reviews[(df_reviews['is_spoiler'] == False) & (df_reviews[column_name] == True)].shape[0]\n",
    "    # Count the number of spoilers in total\n",
    "    total_spoilers = df_reviews[(df_reviews['is_spoiler'] == True)].shape[0]\n",
    "    \n",
    "    print(\"Spoiler reviews that contain the word \" + word + \": \" + str(spoilers_with_word))\n",
    "    print(\"Not spoiler reviews that contain the word \" + word + \": \" + str(not_spoilers_with_word))\n",
    "    print(\"Total number of spoiler reviews: \" + str(total_spoilers))\n",
    "    print(\"\\n--------------------------------------------------------------- \\n\")\n",
    "    \n",
    "    # -------------------------------- #\n",
    "    \n",
    "    # Plot the graphs \n",
    "    \n",
    "    fig, (ax1,ax2) = plt.subplots(1,2,figsize=(15,15)) #ax1,ax2 refer to your two pies\n",
    "    fig.tight_layout(pad = 10.0)\n",
    "    \n",
    "    # Graph that compare the number of reviews that are spoiler/not spoiler and contains the word \"word\"\n",
    "    labels = [\"Spoiler\", \"Not spoiler\"]\n",
    "    values = np.array([(spoilers_with_word/n_reviews_with_word)*100,(not_spoilers_with_word/n_reviews_with_word)*100 ])\n",
    "    ax1.pie(values,labels = labels,colors = ['#ff6361','#ffa600'],autopct='%1.2f%%') #plot first pie\n",
    "    ax1.set_title('Reviews containing the word ' + word)\n",
    "\n",
    "    # Graph that compare the number of reviews in total that contains/not contains the word \"word\" \n",
    "    labels = [\"Containing the word \" + word, \"Not containing the word \" + word]\n",
    "    values = np.array([(spoilers_with_word/total_spoilers)*100,((total_spoilers - spoilers_with_word)/total_spoilers)*100 ])\n",
    "    ax2.pie(values,labels = labels,colors = ['#ff6361', '#77B1E0'],autopct = '%1.2f%%') #plot second pie\n",
    "    ax2.set_title('Spoiler reviews')\n",
    "\n",
    "    # Remove the column created\n",
    "    df_reviews = df_reviews.drop([column_name], axis=1)\n",
    "    \n",
    "    return df_reviews"
   ]
  },
  {
   "cell_type": "code",
   "execution_count": 17,
   "id": "6c78c3f7-6ad0-4895-9817-c3063dad28ab",
   "metadata": {},
   "outputs": [
    {
     "name": "stdout",
     "output_type": "stream",
     "text": [
      "Spoiler reviews that contain the word spoiler: 19018\n",
      "Not spoiler reviews that contain the word spoiler: 7418\n",
      "Total number of spoiler reviews: 150924\n",
      "\n",
      "--------------------------------------------------------------- \n",
      "\n",
      "Spoiler reviews that contain the word die: 48060\n",
      "Not spoiler reviews that contain the word die: 92520\n",
      "Total number of spoiler reviews: 150924\n",
      "\n",
      "--------------------------------------------------------------- \n",
      "\n",
      "Spoiler reviews that contain the word win: 47468\n",
      "Not spoiler reviews that contain the word win: 96692\n",
      "Total number of spoiler reviews: 150924\n",
      "\n",
      "--------------------------------------------------------------- \n",
      "\n"
     ]
    },
    {
     "data": {
      "image/png": "[encoded data removed]",
      "text/plain": [
       "<Figure size 1500x1500 with 2 Axes>"
      ]
     },
     "metadata": {},
     "output_type": "display_data"
    },
    {
     "data": {
      "image/png": "[encoded data removed]",
      "text/plain": [
       "<Figure size 1500x1500 with 2 Axes>"
      ]
     },
     "metadata": {},
     "output_type": "display_data"
    },
    {
     "data": {
      "image/png": "[encoded data removed]",
      "text/plain": [
       "<Figure size 1500x1500 with 2 Axes>"
      ]
     },
     "metadata": {},
     "output_type": "display_data"
    }
   ],
   "source": [
    "# Plot the pies for words \"spoiler\", \"die\" and \"win\".\n",
    "df_reviews = compare_review_by_word('spoiler',df_reviews)\n",
    "df_reviews = compare_review_by_word('die',df_reviews)\n",
    "df_reviews = compare_review_by_word('win',df_reviews)"
   ]
  },
  {
   "cell_type": "markdown",
   "id": "b4bbec11-0a36-4ebe-9316-27e81ac76ff0",
   "metadata": {},
   "source": [
    "On the left of each figure, it's represented the distribution of classes respect to the total number of reviews containing the word. On the right, it's represented the distribution of reviews that contains that words respect to the total number of spoiler reviews in the dataset.\n",
    "\n",
    "### Average number of words for spoiler and not spoiler reviews\n",
    "We have analyzed if the review length is a discriminant respect to the spoiler label. We have found that in average the number of words used in the spoiler review is higher than in not spoiler reviews."
   ]
  },
  {
   "cell_type": "code",
   "execution_count": 18,
   "id": "d401fe9e-18df-4570-8192-697cdc0379ab",
   "metadata": {},
   "outputs": [
    {
     "data": {
      "text/html": [
       "<div>\n",
       "<style scoped>\n",
       "    .dataframe tbody tr th:only-of-type {\n",
       "        vertical-align: middle;\n",
       "    }\n",
       "\n",
       "    .dataframe tbody tr th {\n",
       "        vertical-align: top;\n",
       "    }\n",
       "\n",
       "    .dataframe thead th {\n",
       "        text-align: right;\n",
       "    }\n",
       "</style>\n",
       "<table border=\"1\" class=\"dataframe\">\n",
       "  <thead>\n",
       "    <tr style=\"text-align: right;\">\n",
       "      <th></th>\n",
       "      <th>review_date</th>\n",
       "      <th>movie_id</th>\n",
       "      <th>user_id</th>\n",
       "      <th>is_spoiler</th>\n",
       "      <th>review_text</th>\n",
       "      <th>rating</th>\n",
       "      <th>review_summary</th>\n",
       "    </tr>\n",
       "  </thead>\n",
       "  <tbody>\n",
       "    <tr>\n",
       "      <th>0</th>\n",
       "      <td>10 February 2006</td>\n",
       "      <td>tt0111161</td>\n",
       "      <td>ur1898687</td>\n",
       "      <td>True</td>\n",
       "      <td>In its Oscar year, Shawshank Redemption (writt...</td>\n",
       "      <td>10</td>\n",
       "      <td>A classic piece of unforgettable film-making.</td>\n",
       "    </tr>\n",
       "    <tr>\n",
       "      <th>1</th>\n",
       "      <td>6 September 2000</td>\n",
       "      <td>tt0111161</td>\n",
       "      <td>ur0842118</td>\n",
       "      <td>True</td>\n",
       "      <td>The Shawshank Redemption is without a doubt on...</td>\n",
       "      <td>10</td>\n",
       "      <td>Simply amazing. The best film of the 90's.</td>\n",
       "    </tr>\n",
       "    <tr>\n",
       "      <th>2</th>\n",
       "      <td>3 August 2001</td>\n",
       "      <td>tt0111161</td>\n",
       "      <td>ur1285640</td>\n",
       "      <td>True</td>\n",
       "      <td>I believe that this film is the best story eve...</td>\n",
       "      <td>8</td>\n",
       "      <td>The best story ever told on film</td>\n",
       "    </tr>\n",
       "    <tr>\n",
       "      <th>3</th>\n",
       "      <td>1 September 2002</td>\n",
       "      <td>tt0111161</td>\n",
       "      <td>ur1003471</td>\n",
       "      <td>True</td>\n",
       "      <td>**Yes, there are SPOILERS here**This film has ...</td>\n",
       "      <td>10</td>\n",
       "      <td>Busy dying or busy living?</td>\n",
       "    </tr>\n",
       "    <tr>\n",
       "      <th>4</th>\n",
       "      <td>20 May 2004</td>\n",
       "      <td>tt0111161</td>\n",
       "      <td>ur0226855</td>\n",
       "      <td>True</td>\n",
       "      <td>At the heart of this extraordinary movie is a ...</td>\n",
       "      <td>8</td>\n",
       "      <td>Great story, wondrously told and acted</td>\n",
       "    </tr>\n",
       "  </tbody>\n",
       "</table>\n",
       "</div>"
      ],
      "text/plain": [
       "        review_date   movie_id    user_id  is_spoiler  \\\n",
       "0  10 February 2006  tt0111161  ur1898687        True   \n",
       "1  6 September 2000  tt0111161  ur0842118        True   \n",
       "2     3 August 2001  tt0111161  ur1285640        True   \n",
       "3  1 September 2002  tt0111161  ur1003471        True   \n",
       "4       20 May 2004  tt0111161  ur0226855        True   \n",
       "\n",
       "                                         review_text  rating  \\\n",
       "0  In its Oscar year, Shawshank Redemption (writt...      10   \n",
       "1  The Shawshank Redemption is without a doubt on...      10   \n",
       "2  I believe that this film is the best story eve...       8   \n",
       "3  **Yes, there are SPOILERS here**This film has ...      10   \n",
       "4  At the heart of this extraordinary movie is a ...       8   \n",
       "\n",
       "                                  review_summary  \n",
       "0  A classic piece of unforgettable film-making.  \n",
       "1     Simply amazing. The best film of the 90's.  \n",
       "2               The best story ever told on film  \n",
       "3                     Busy dying or busy living?  \n",
       "4         Great story, wondrously told and acted  "
      ]
     },
     "execution_count": 18,
     "metadata": {},
     "output_type": "execute_result"
    }
   ],
   "source": [
    "df_reviews.head()"
   ]
  },
  {
   "cell_type": "code",
   "execution_count": 19,
   "id": "2279f95c-0ea2-42f4-abc5-134336c7670d",
   "metadata": {},
   "outputs": [
    {
     "name": "stdout",
     "output_type": "stream",
     "text": [
      "avg words for spoiler reviews: 335\n",
      "avg words for not spoiler reviews: 232\n"
     ]
    },
    {
     "name": "stderr",
     "output_type": "stream",
     "text": [
      "C:\\Users\\ganes\\AppData\\Local\\Temp\\ipykernel_7100\\941716535.py:8: FutureWarning: Series.__getitem__ treating keys as positions is deprecated. In a future version, integer keys will always be treated as labels (consistent with DataFrame behavior). To access a value by position, use `ser.iloc[pos]`\n",
      "  print('avg words for spoiler reviews: ' + str('{:.0f}'.format(avg_length_of_spoilers[1])))\n",
      "C:\\Users\\ganes\\AppData\\Local\\Temp\\ipykernel_7100\\941716535.py:9: FutureWarning: Series.__getitem__ treating keys as positions is deprecated. In a future version, integer keys will always be treated as labels (consistent with DataFrame behavior). To access a value by position, use `ser.iloc[pos]`\n",
      "  print('avg words for not spoiler reviews: ' + str('{:.0f}'.format(avg_length_of_spoilers[0])))\n",
      "C:\\Users\\ganes\\AppData\\Local\\Temp\\ipykernel_7100\\941716535.py:13: FutureWarning: Series.__getitem__ treating keys as positions is deprecated. In a future version, integer keys will always be treated as labels (consistent with DataFrame behavior). To access a value by position, use `ser.iloc[pos]`\n",
      "  plt.bar('Spoiler', avg_length_of_spoilers[0])\n",
      "C:\\Users\\ganes\\AppData\\Local\\Temp\\ipykernel_7100\\941716535.py:14: FutureWarning: Series.__getitem__ treating keys as positions is deprecated. In a future version, integer keys will always be treated as labels (consistent with DataFrame behavior). To access a value by position, use `ser.iloc[pos]`\n",
      "  plt.bar('Not Spoiler', avg_length_of_spoilers[1])\n"
     ]
    },
    {
     "data": {
      "image/png": "[encoded data removed]",
      "text/plain": [
       "<Figure size 640x480 with 1 Axes>"
      ]
     },
     "metadata": {},
     "output_type": "display_data"
    }
   ],
   "source": [
    "# Compute the number of words foreach review\n",
    "df_reviews['number_of_words_in_review'] = df_reviews['review_text'].apply(lambda x: len(x.split(\" \")))\n",
    "\n",
    "# Compute the mean for spoiler and not spoiler reviews\n",
    "avg_length_of_spoilers = df_reviews.groupby('is_spoiler')['number_of_words_in_review'].mean()\n",
    "\n",
    "# Print values\n",
    "print('avg words for spoiler reviews: ' + str('{:.0f}'.format(avg_length_of_spoilers[1])))\n",
    "print('avg words for not spoiler reviews: ' + str('{:.0f}'.format(avg_length_of_spoilers[0])))\n",
    "\n",
    "# ---- PLOT ----- #\n",
    "\n",
    "plt.bar('Spoiler', avg_length_of_spoilers[0])\n",
    "plt.bar('Not Spoiler', avg_length_of_spoilers[1])\n",
    "\n",
    "plt.ylabel('Avg number of words per review')\n",
    "\n",
    "plt.show()\n",
    "\n",
    "# Remove the column created\n",
    "df_reviews = df_reviews.drop(['number_of_words_in_review'], axis=1)"
   ]
  },
  {
   "cell_type": "code",
   "execution_count": 20,
   "id": "f5cdb80c-4949-4ede-a6bf-9094c4125153",
   "metadata": {},
   "outputs": [],
   "source": [
    "df_reviews_dataset = df_reviews.copy()"
   ]
  },
  {
   "cell_type": "markdown",
   "id": "df14c665-c9c2-428a-b7ee-fcc48ad26a74",
   "metadata": {},
   "source": [
    "### DATA PREPROCESSING¶\n",
    "In this section we have done some text preprocessing operation to transform and clean the text of the reviews.\n",
    "\n",
    "#### Data Cleaning"
   ]
  },
  {
   "cell_type": "code",
   "execution_count": 21,
   "id": "755ff926-a89f-4532-9af0-20716e41558b",
   "metadata": {},
   "outputs": [],
   "source": [
    "import re\n",
    "import unidecode\n",
    "import contractions\n",
    "from nltk.tokenize import word_tokenize\n",
    "from nltk.corpus import stopwords\n",
    "from nltk.stem import PorterStemmer\n",
    "from textblob import Word, TextBlob\n",
    "\n",
    "stop = stopwords.words('english')"
   ]
  },
  {
   "cell_type": "code",
   "execution_count": 22,
   "id": "295f2402-5e3b-4910-9233-f3ac5201a50b",
   "metadata": {},
   "outputs": [],
   "source": [
    "# Remove links from text\n",
    " # \"\"\"\n",
    " #    This function will remove links from the \n",
    " #    text contained within the Dataset.\n",
    "       \n",
    " #    arguments:\n",
    " #        input_text: \"text\" of type \"String\". \n",
    "                    \n",
    " #    return:\n",
    " #        value: \"text\" with removed links. \n",
    "    # \"\"\"\n",
    "\n",
    "# Function to remove hyperlinks from text\n",
    "def remove_links(text): \n",
    "    text = re.sub(r'http\\S+', '', text)\n",
    "    return text"
   ]
  },
  {
   "cell_type": "code",
   "execution_count": 23,
   "id": "f459a28b-a895-4f3b-8869-7e7173573abc",
   "metadata": {},
   "outputs": [],
   "source": [
    "# %%time\n",
    "# df_reviews_dataset['cleaned_review_stemming'], df_reviews_dataset['cleaned_review'] = zip(*df_reviews_dataset.review_text.parallel_apply(remove_links))"
   ]
  },
  {
   "cell_type": "code",
   "execution_count": 24,
   "id": "76a343ed-06c5-4b84-bbe6-1480f6e4beb5",
   "metadata": {},
   "outputs": [],
   "source": [
    "# Remove accented characters\n",
    "# \"\"\"\n",
    "#     This function will remove accented characters from the \n",
    "#     text contained within the Dataset.\n",
    "#        accented characters eample are some this below:\n",
    "#        á - Lowercase letter A with an acute accent.\n",
    "# é - Lowercase letter E with an acute accent.\n",
    "# í - Lowercase letter I with an acute accent.\n",
    "# ó - Lowercase letter O with an acute accent.\n",
    "# ú - Lowercase letter U with an acute accent.\n",
    "# à - Lowercase letter A with a grave accent.\n",
    "# è - Lowercase letter E with a grave accent.\n",
    "# ì - Lowercase letter I with a grave accent.\n",
    "# ò - Lowercase letter O with a grave accent.\n",
    "# ù - Lowercase letter U with a grave accent.\n",
    "#     arguments:\n",
    "#         input_text: \"text\" of type \"String\". \n",
    "                    \n",
    "#     return:\n",
    "#         value: \"text\" with removed accented characters.  \n",
    "#     \"\"\"\n",
    "\n",
    "# Function to remove accented characters and convert them to ASCII\n",
    "def accented_characters_removal(text):\n",
    "    text = unidecode.unidecode(text) \n",
    "    return text"
   ]
  },
  {
   "cell_type": "code",
   "execution_count": 25,
   "id": "c7f3458c-ce87-4ce6-8d8d-48fe312b2df9",
   "metadata": {},
   "outputs": [],
   "source": [
    "# Remove repeated characters and punctuations\n",
    " # \"\"\"\n",
    "    # This Function will reduce repeatition to two characters \n",
    "    # for alphabets and to one character for punctuations.\n",
    "    \n",
    "    # arguments:\n",
    "    #      input_text: \"text\" of type \"String\".\n",
    "         \n",
    "    # return:\n",
    "    #     value: Finally formatted text with alphabets repeating to \n",
    "    #     two characters & punctuations limited to one repeatition \n",
    "    # \"\"\"\n",
    "\n",
    "# Function to reduce repeated characters in a word to two occurrences\n",
    "def reducing_incorrect_character_repeatation(text):\n",
    "    Pattern_alpha = re.compile(r\"([A-Za-z])\\1{1,}\", re.DOTALL)\n",
    "    Formatted_text = Pattern_alpha.sub(r\"\\1\\1\", text) \n",
    "    Pattern_Punct = re.compile(r'([.,/#!$%^&*?;:{}=_`~()+-])\\1{1,}')\n",
    "    Combined_Formatted = Pattern_Punct.sub(r'\\1', Formatted_text)\n",
    "    Final_Formatted = re.sub(' {2,}',' ', Combined_Formatted)\n",
    "    return Final_Formatted"
   ]
  },
  {
   "cell_type": "code",
   "execution_count": 26,
   "id": "e08a7c87-b240-4085-8c63-0ebcf152e0e3",
   "metadata": {},
   "outputs": [],
   "source": [
    "# Expand contraction words\n",
    " # \"\"\"\n",
    "    # This Function will expands contractions in words.\n",
    "    # example: \"I can't believe it's raining today. I'm going to stay indoors.\" will become \n",
    "    # I cannot believe it is raining today. I am going to stay indoors.     \n",
    "    # after the contractions.\n",
    "    # arguments:\n",
    "    #      input_text: \"text\" of type \"String\".\n",
    "         \n",
    "    # return:\n",
    "    #     value: \"text\" with expanded contractions .  \n",
    "    # \"\"\"\n",
    "\n",
    "# Function to expand contractions in text (e.g., \"don't\" to \"do not\")\n",
    "def expand_contractions(text):\n",
    "    expanded_words = []    \n",
    "    for word in text.split():\n",
    "        expanded_words.append(contractions.fix(word)) \n",
    "    String_Of_tokens = ' '.join(expanded_words)\n",
    "    return String_Of_tokens"
   ]
  },
  {
   "cell_type": "code",
   "execution_count": 27,
   "id": "f3a51134-ce2c-4fa3-b632-f3847e2e5170",
   "metadata": {},
   "outputs": [],
   "source": [
    "# Remove special characters\n",
    " # \"\"\"\n",
    "#     This Function will remove special characters (including punctualization).\n",
    "#     Example of special characters are:\n",
    "#     ! - Exclamation mark\n",
    "# @ - At sign\n",
    "# - Hash symbol\n",
    "# $ - Dollar sign\n",
    "# % - Percent sign\n",
    "# ^ - Caret symbol\n",
    "# & - Ampersand\n",
    "# Asterisk\n",
    "# ( - Left parenthesis\n",
    "# ) - Right parenthesis\n",
    "# Hyphen or dash\n",
    "# _ - Underscore\n",
    "# = - Equal sign\n",
    "# Plus sign\n",
    "# { - Left curly brace\n",
    "# } - Right curly brace\n",
    "# [ - Left square bracket\n",
    "# ] - Right square bracket\n",
    "# : - Colon\n",
    "# ; - Semicolon\n",
    "#     arguments:\n",
    "#          input_text: \"text\" of type \"String\".\n",
    "         \n",
    "#     return:\n",
    "#         value: \"text\" with special characters removed.  \n",
    "#     \"\"\"\n",
    "\n",
    "# Function to remove special characters from text\n",
    "def removing_special_characters(text):\n",
    "    pattern = r\"[^a-zA-Z]\"\n",
    "    text = re.sub(pattern,' ', text)\n",
    "    return text"
   ]
  },
  {
   "cell_type": "code",
   "execution_count": 28,
   "id": "f43f32cd-838a-4965-979e-ea7f53600d90",
   "metadata": {},
   "outputs": [],
   "source": [
    "  # \"\"\"\n",
    "#     This Function will remove meaningless words, stopwords and apply stemming.\n",
    "    \n",
    "#     arguments:\n",
    "#          input_text: \"text\" of type \"String\".\n",
    "         \n",
    "#     return:\n",
    "#         value: \"text\" with meaningless and stopwords removed, stemming applied. \n",
    "#         example are:  Input: \"The cats are playing outside and jumping over the fences.\"\n",
    "\n",
    "# Result with stemming, removing stopwords, and removing meaningless words: \"cat play outsid jump fenc\"\n",
    "\n",
    "# Result without stemming: \"cat playing outside jumping fence\"\n",
    "#     \"\"\"\n",
    "\n",
    "# Porter stemming algorithm for reducing words to their base or root form\n",
    "port_stemmer = PorterStemmer()\n",
    "\n",
    "# Function to stem words, remove stopwords, and remove meaningless words\n",
    "def stemming_stopwords_meaninglessWords(text):\n",
    "    tokens = word_tokenize(text)\n",
    "    text_1 = ' '.join([port_stemmer.stem(token) for token in tokens if token not in stop and Word(token).singularize() in words])\n",
    "    text_2 = ' '.join([Word(token).singularize() for token in tokens if token not in stop and Word(token).singularize() in words]) \n",
    "    return text_1, text_2"
   ]
  },
  {
   "cell_type": "code",
   "execution_count": 29,
   "id": "f2e6a63d-0af0-4368-accd-c5c266c7f40d",
   "metadata": {},
   "outputs": [],
   "source": [
    "# Main text cleaning function\n",
    "def text_clean(text):\n",
    "    # Convert text to lowercase\n",
    "    text = text.lower()\n",
    "    # Remove hyperlinks\n",
    "    text = remove_links(text)\n",
    "    # Expand contractions\n",
    "    text = expand_contractions(text)\n",
    "    # Remove accented characters\n",
    "    text = accented_characters_removal(text)\n",
    "    # Remove special characters\n",
    "    text = removing_special_characters(text)\n",
    "    # Reduce repeated characters\n",
    "    text = reducing_incorrect_character_repeatation(text)\n",
    "    # Apply stemming, remove stopwords, and remove meaningless words\n",
    "    text_1, text_2 = stemming_stopwords_meaninglessWords(text)\n",
    "    return text_1, text_2"
   ]
  },
  {
   "cell_type": "code",
   "execution_count": 30,
   "id": "de436b62-73ee-424e-92d8-3475aafdc581",
   "metadata": {},
   "outputs": [],
   "source": [
    "# df_reviews_dataset['cleaned_review_stemming'], df_reviews_dataset['cleaned_review'] = zip(*df_reviews_dataset.review_text.parallel_apply(text_clean, args=(remove_links,)))\n"
   ]
  },
  {
   "cell_type": "code",
   "execution_count": 31,
   "id": "8b73d8ea-47d9-4d49-b604-31bdd3a1a2ab",
   "metadata": {},
   "outputs": [],
   "source": [
    "# # Apply text cleaning function to a Pandas DataFrame column in parallel\n",
    "# import time\n",
    "\n",
    "# %%time\n",
    "# df_reviews_dataset['cleaned_review_stemming'], df_reviews_dataset['cleaned_review'] = zip(*df_reviews_dataset.review_text.parallel_apply(text_clean))"
   ]
  },
  {
   "cell_type": "code",
   "execution_count": 32,
   "id": "85d6537b-4d3e-4144-a247-0e1c3c87d590",
   "metadata": {},
   "outputs": [],
   "source": [
    "import time\n",
    "\n",
    "# Record the start time\n",
    "start_time = time.time()\n",
    "\n",
    "# Apply text cleaning function to your DataFrame\n",
    "df_reviews_dataset['cleaned_review_stemming'], df_reviews_dataset['cleaned_review'] = zip(*df_reviews_dataset.review_text(text_clean))\n",
    "\n",
    "# Calculate the elapsed time\n",
    "elapsed_time = time.time() - start_time\n",
    "print(\"Execution time:\", elapsed_time, \"seconds\")\n"
   ]
  },
  {
   "cell_type": "markdown",
   "id": "c08342a8-a62f-4aa9-bbc3-81e1feb5b2d5",
   "metadata": {},
   "source": [
    "After applying the text clean to the reviews, we could have some reviews that are NaN due to the fact that we remove meaningless words. We detect these reviews and we remove from dataset (they are considerated as NaN and not as empty string)."
   ]
  },
  {
   "cell_type": "code",
   "execution_count": 33,
   "id": "3e50a556-05be-4dbd-aba8-70ce98559dba",
   "metadata": {},
   "outputs": [
    {
     "data": {
      "text/plain": [
       "review_date       0\n",
       "movie_id          0\n",
       "user_id           0\n",
       "is_spoiler        0\n",
       "review_text       0\n",
       "rating            0\n",
       "review_summary    0\n",
       "dtype: int64"
      ]
     },
     "execution_count": 33,
     "metadata": {},
     "output_type": "execute_result"
    }
   ],
   "source": [
    "df_reviews_dataset.isna().sum()"
   ]
  },
  {
   "cell_type": "code",
   "execution_count": 34,
   "id": "9f2b5840-8926-490a-afd2-e00ee6e84306",
   "metadata": {},
   "outputs": [],
   "source": [
    "df_reviews_dataset = df_reviews_dataset.dropna()"
   ]
  },
  {
   "cell_type": "markdown",
   "id": "aeecc3ec-2bdf-46cb-b6ac-266f1f01b22c",
   "metadata": {},
   "source": [
    "### Handle dates\n",
    "We decided to consider the reviews before 2008 as old. \\ After that, we toke the  review (Jan 2017) to build a test set to simulate how the application works with newer reviews. \\ We built the training set with the reviews that are beetween 2008 and 2016.\n",
    "\n",
    "We changed the review_dates format to \"Y-m-d\""
   ]
  },
  {
   "cell_type": "code",
   "execution_count": 35,
   "id": "f5d4643d-b504-41c3-a38c-4678d24d84e7",
   "metadata": {},
   "outputs": [],
   "source": [
    "df_reviews_dataset['review_date'] = pd.to_datetime(df_reviews_dataset['review_date'],format='%d %B %Y')"
   ]
  },
  {
   "cell_type": "code",
   "execution_count": 36,
   "id": "68a54630-bf3e-4b78-919b-f68e80a18a8f",
   "metadata": {},
   "outputs": [
    {
     "data": {
      "text/html": [
       "<div>\n",
       "<style scoped>\n",
       "    .dataframe tbody tr th:only-of-type {\n",
       "        vertical-align: middle;\n",
       "    }\n",
       "\n",
       "    .dataframe tbody tr th {\n",
       "        vertical-align: top;\n",
       "    }\n",
       "\n",
       "    .dataframe thead th {\n",
       "        text-align: right;\n",
       "    }\n",
       "</style>\n",
       "<table border=\"1\" class=\"dataframe\">\n",
       "  <thead>\n",
       "    <tr style=\"text-align: right;\">\n",
       "      <th></th>\n",
       "      <th>review_date</th>\n",
       "      <th>movie_id</th>\n",
       "      <th>user_id</th>\n",
       "      <th>is_spoiler</th>\n",
       "      <th>review_text</th>\n",
       "      <th>rating</th>\n",
       "      <th>review_summary</th>\n",
       "    </tr>\n",
       "  </thead>\n",
       "  <tbody>\n",
       "    <tr>\n",
       "      <th>0</th>\n",
       "      <td>2006-02-10</td>\n",
       "      <td>tt0111161</td>\n",
       "      <td>ur1898687</td>\n",
       "      <td>True</td>\n",
       "      <td>In its Oscar year, Shawshank Redemption (writt...</td>\n",
       "      <td>10</td>\n",
       "      <td>A classic piece of unforgettable film-making.</td>\n",
       "    </tr>\n",
       "    <tr>\n",
       "      <th>1</th>\n",
       "      <td>2000-09-06</td>\n",
       "      <td>tt0111161</td>\n",
       "      <td>ur0842118</td>\n",
       "      <td>True</td>\n",
       "      <td>The Shawshank Redemption is without a doubt on...</td>\n",
       "      <td>10</td>\n",
       "      <td>Simply amazing. The best film of the 90's.</td>\n",
       "    </tr>\n",
       "    <tr>\n",
       "      <th>2</th>\n",
       "      <td>2001-08-03</td>\n",
       "      <td>tt0111161</td>\n",
       "      <td>ur1285640</td>\n",
       "      <td>True</td>\n",
       "      <td>I believe that this film is the best story eve...</td>\n",
       "      <td>8</td>\n",
       "      <td>The best story ever told on film</td>\n",
       "    </tr>\n",
       "    <tr>\n",
       "      <th>3</th>\n",
       "      <td>2002-09-01</td>\n",
       "      <td>tt0111161</td>\n",
       "      <td>ur1003471</td>\n",
       "      <td>True</td>\n",
       "      <td>**Yes, there are SPOILERS here**This film has ...</td>\n",
       "      <td>10</td>\n",
       "      <td>Busy dying or busy living?</td>\n",
       "    </tr>\n",
       "    <tr>\n",
       "      <th>4</th>\n",
       "      <td>2004-05-20</td>\n",
       "      <td>tt0111161</td>\n",
       "      <td>ur0226855</td>\n",
       "      <td>True</td>\n",
       "      <td>At the heart of this extraordinary movie is a ...</td>\n",
       "      <td>8</td>\n",
       "      <td>Great story, wondrously told and acted</td>\n",
       "    </tr>\n",
       "  </tbody>\n",
       "</table>\n",
       "</div>"
      ],
      "text/plain": [
       "  review_date   movie_id    user_id  is_spoiler  \\\n",
       "0  2006-02-10  tt0111161  ur1898687        True   \n",
       "1  2000-09-06  tt0111161  ur0842118        True   \n",
       "2  2001-08-03  tt0111161  ur1285640        True   \n",
       "3  2002-09-01  tt0111161  ur1003471        True   \n",
       "4  2004-05-20  tt0111161  ur0226855        True   \n",
       "\n",
       "                                         review_text  rating  \\\n",
       "0  In its Oscar year, Shawshank Redemption (writt...      10   \n",
       "1  The Shawshank Redemption is without a doubt on...      10   \n",
       "2  I believe that this film is the best story eve...       8   \n",
       "3  **Yes, there are SPOILERS here**This film has ...      10   \n",
       "4  At the heart of this extraordinary movie is a ...       8   \n",
       "\n",
       "                                  review_summary  \n",
       "0  A classic piece of unforgettable film-making.  \n",
       "1     Simply amazing. The best film of the 90's.  \n",
       "2               The best story ever told on film  \n",
       "3                     Busy dying or busy living?  \n",
       "4         Great story, wondrously told and acted  "
      ]
     },
     "execution_count": 36,
     "metadata": {},
     "output_type": "execute_result"
    }
   ],
   "source": [
    "df_reviews_dataset.head()"
   ]
  },
  {
   "cell_type": "markdown",
   "id": "67cf8756-e07e-4f69-a5ed-39bcddf37966",
   "metadata": {},
   "source": [
    "We built the training set with the reviews that are beetween 2008 and 2016."
   ]
  },
  {
   "cell_type": "code",
   "execution_count": 37,
   "id": "acd0177c-a00b-4d70-bdab-a51d80215e03",
   "metadata": {},
   "outputs": [
    {
     "name": "stdout",
     "output_type": "stream",
     "text": [
      "Train set shape: (288351, 3)\n",
      "Min date: 2008-01-01 00:00:00\n",
      "Max date: 2016-12-31 00:00:00\n"
     ]
    }
   ],
   "source": [
    "# TRAIN SET EXCLUDING DATES < 2008 (TOO OLD) AND > 2016 (USED TO TEST)\n",
    "\n",
    "train_set = df_reviews_dataset.loc[(df_reviews_dataset['review_date'] < '2017-01-01')\n",
    "                     & (df_reviews_dataset['review_date'] > '2007-12-31')]\n",
    "\n",
    "train_set = train_set.drop(['movie_id', 'user_id','rating', 'review_summary'],axis=1)\n",
    "\n",
    "print(\"Train set shape: \" + str(train_set.shape))\n",
    "print(\"Min date: \" + str(train_set['review_date'].min()))\n",
    "print(\"Max date: \" + str(train_set['review_date'].max()))"
   ]
  },
  {
   "cell_type": "markdown",
   "id": "3a1eaf2c-d25c-4598-bb0d-3439c23461dd",
   "metadata": {},
   "source": [
    "We built the test set with the review that are in the year (2017)"
   ]
  },
  {
   "cell_type": "code",
   "execution_count": 38,
   "id": "f281c7e7-e3e1-4f13-85bb-6d7f71f48ead",
   "metadata": {},
   "outputs": [
    {
     "name": "stdout",
     "output_type": "stream",
     "text": [
      "Test set shape: (45103, 3)\n",
      "Min date: 2017-01-01 00:00:00\n",
      "Max date: 2017-12-31 00:00:00\n"
     ]
    }
   ],
   "source": [
    "# TEST SET CONTAINING DATES > 2016\n",
    "\n",
    "test_set = df_reviews_dataset.loc[(df_reviews_dataset['review_date'] >= '2017-01-01') \n",
    "                     & (df_reviews_dataset['review_date'] < '2018-01-01')]\n",
    "\n",
    "test_set = test_set.drop(['movie_id', 'user_id','rating', 'review_summary'],axis=1)\n",
    "\n",
    "print(\"Test set shape: \" + str(test_set.shape))\n",
    "print(\"Min date: \" + str(test_set['review_date'].min()))\n",
    "print(\"Max date: \" + str(test_set['review_date'].max()))"
   ]
  },
  {
   "cell_type": "markdown",
   "id": "8935bd20-a688-46f9-91b2-6719304169c7",
   "metadata": {},
   "source": [
    "We saved the training and test set."
   ]
  },
  {
   "cell_type": "code",
   "execution_count": 39,
   "id": "0572accb-17f8-4895-8dab-69c34ea675ac",
   "metadata": {},
   "outputs": [],
   "source": [
    "train_set.to_csv('train_set.csv',index=False)"
   ]
  },
  {
   "cell_type": "code",
   "execution_count": 40,
   "id": "0e19a5c4-453b-4e6a-b06e-074b2a9e7994",
   "metadata": {},
   "outputs": [],
   "source": [
    "test_set.to_csv('test_set.csv',index=False)"
   ]
  },
  {
   "cell_type": "code",
   "execution_count": 41,
   "id": "6948449e-8380-4ff5-b255-355751ab4149",
   "metadata": {},
   "outputs": [
    {
     "data": {
      "text/html": [
       "<div>\n",
       "<style scoped>\n",
       "    .dataframe tbody tr th:only-of-type {\n",
       "        vertical-align: middle;\n",
       "    }\n",
       "\n",
       "    .dataframe tbody tr th {\n",
       "        vertical-align: top;\n",
       "    }\n",
       "\n",
       "    .dataframe thead th {\n",
       "        text-align: right;\n",
       "    }\n",
       "</style>\n",
       "<table border=\"1\" class=\"dataframe\">\n",
       "  <thead>\n",
       "    <tr style=\"text-align: right;\">\n",
       "      <th></th>\n",
       "      <th>review_date</th>\n",
       "      <th>is_spoiler</th>\n",
       "      <th>review_text</th>\n",
       "    </tr>\n",
       "  </thead>\n",
       "  <tbody>\n",
       "    <tr>\n",
       "      <th>0</th>\n",
       "      <td>2012-02-04</td>\n",
       "      <td>True</td>\n",
       "      <td>I made my account on IMDb Just to Rate this mo...</td>\n",
       "    </tr>\n",
       "    <tr>\n",
       "      <th>1</th>\n",
       "      <td>2008-10-24</td>\n",
       "      <td>True</td>\n",
       "      <td>A friend of mine listed \"The Shawshank Redempt...</td>\n",
       "    </tr>\n",
       "    <tr>\n",
       "      <th>2</th>\n",
       "      <td>2011-07-30</td>\n",
       "      <td>True</td>\n",
       "      <td>Well I guess I'm a little late to the party as...</td>\n",
       "    </tr>\n",
       "    <tr>\n",
       "      <th>3</th>\n",
       "      <td>2008-02-17</td>\n",
       "      <td>True</td>\n",
       "      <td>I finally watched The Shawshank Redemption and...</td>\n",
       "    </tr>\n",
       "    <tr>\n",
       "      <th>4</th>\n",
       "      <td>2010-06-01</td>\n",
       "      <td>True</td>\n",
       "      <td>To tell the truth, I am speechless. I am a you...</td>\n",
       "    </tr>\n",
       "  </tbody>\n",
       "</table>\n",
       "</div>"
      ],
      "text/plain": [
       "  review_date  is_spoiler                                        review_text\n",
       "0  2012-02-04        True  I made my account on IMDb Just to Rate this mo...\n",
       "1  2008-10-24        True  A friend of mine listed \"The Shawshank Redempt...\n",
       "2  2011-07-30        True  Well I guess I'm a little late to the party as...\n",
       "3  2008-02-17        True  I finally watched The Shawshank Redemption and...\n",
       "4  2010-06-01        True  To tell the truth, I am speechless. I am a you..."
      ]
     },
     "execution_count": 41,
     "metadata": {},
     "output_type": "execute_result"
    }
   ],
   "source": [
    "df = pd.read_csv('train_set.csv')\n",
    "df.head()"
   ]
  },
  {
   "cell_type": "code",
   "execution_count": 42,
   "id": "0ab3856d-5aba-48ae-873a-863821a34701",
   "metadata": {},
   "outputs": [
    {
     "data": {
      "text/plain": [
       "(288351, 3)"
      ]
     },
     "execution_count": 42,
     "metadata": {},
     "output_type": "execute_result"
    }
   ],
   "source": [
    "df.shape"
   ]
  },
  {
   "cell_type": "markdown",
   "id": "16f4b3fb-7673-429e-8243-abbb50f1a4ad",
   "metadata": {},
   "source": [
    "Divide the dataset in X and y, we load the dataset with stemming to check if the stemming is useful to improve the model measures."
   ]
  },
  {
   "cell_type": "code",
   "execution_count": 43,
   "id": "f9a440ef-fd69-4364-8910-ecc19f7b1c18",
   "metadata": {},
   "outputs": [
    {
     "ename": "AttributeError",
     "evalue": "'DataFrame' object has no attribute 'cleaned_review'",
     "output_type": "error",
     "traceback": [
      "\u001b[1;31m---------------------------------------------------------------------------\u001b[0m",
      "\u001b[1;31mAttributeError\u001b[0m                            Traceback (most recent call last)",
      "\u001b[1;32m~\\AppData\\Local\\Temp\\ipykernel_7100\\1658002455.py\u001b[0m in \u001b[0;36m?\u001b[1;34m()\u001b[0m\n\u001b[1;32m----> 1\u001b[1;33m \u001b[0mX\u001b[0m \u001b[1;33m=\u001b[0m \u001b[0mdf\u001b[0m\u001b[1;33m.\u001b[0m\u001b[0mcleaned_review\u001b[0m\u001b[1;33m\u001b[0m\u001b[1;33m\u001b[0m\u001b[0m\n\u001b[0m\u001b[0;32m      2\u001b[0m \u001b[0mX_stemming\u001b[0m \u001b[1;33m=\u001b[0m \u001b[0mdf\u001b[0m\u001b[1;33m.\u001b[0m\u001b[0mcleaned_review_stemming\u001b[0m\u001b[1;33m\u001b[0m\u001b[1;33m\u001b[0m\u001b[0m\n\u001b[0;32m      3\u001b[0m \u001b[0my\u001b[0m \u001b[1;33m=\u001b[0m \u001b[0mdf\u001b[0m\u001b[1;33m.\u001b[0m\u001b[0mis_spoiler\u001b[0m\u001b[1;33m\u001b[0m\u001b[1;33m\u001b[0m\u001b[0m\n",
      "\u001b[1;32m~\\anaconda3\\Lib\\site-packages\\pandas\\core\\generic.py\u001b[0m in \u001b[0;36m?\u001b[1;34m(self, name)\u001b[0m\n\u001b[0;32m   6200\u001b[0m             \u001b[1;32mand\u001b[0m \u001b[0mname\u001b[0m \u001b[1;32mnot\u001b[0m \u001b[1;32min\u001b[0m \u001b[0mself\u001b[0m\u001b[1;33m.\u001b[0m\u001b[0m_accessors\u001b[0m\u001b[1;33m\u001b[0m\u001b[1;33m\u001b[0m\u001b[0m\n\u001b[0;32m   6201\u001b[0m             \u001b[1;32mand\u001b[0m \u001b[0mself\u001b[0m\u001b[1;33m.\u001b[0m\u001b[0m_info_axis\u001b[0m\u001b[1;33m.\u001b[0m\u001b[0m_can_hold_identifiers_and_holds_name\u001b[0m\u001b[1;33m(\u001b[0m\u001b[0mname\u001b[0m\u001b[1;33m)\u001b[0m\u001b[1;33m\u001b[0m\u001b[1;33m\u001b[0m\u001b[0m\n\u001b[0;32m   6202\u001b[0m         ):\n\u001b[0;32m   6203\u001b[0m             \u001b[1;32mreturn\u001b[0m \u001b[0mself\u001b[0m\u001b[1;33m[\u001b[0m\u001b[0mname\u001b[0m\u001b[1;33m]\u001b[0m\u001b[1;33m\u001b[0m\u001b[1;33m\u001b[0m\u001b[0m\n\u001b[1;32m-> 6204\u001b[1;33m         \u001b[1;32mreturn\u001b[0m \u001b[0mobject\u001b[0m\u001b[1;33m.\u001b[0m\u001b[0m__getattribute__\u001b[0m\u001b[1;33m(\u001b[0m\u001b[0mself\u001b[0m\u001b[1;33m,\u001b[0m \u001b[0mname\u001b[0m\u001b[1;33m)\u001b[0m\u001b[1;33m\u001b[0m\u001b[1;33m\u001b[0m\u001b[0m\n\u001b[0m",
      "\u001b[1;31mAttributeError\u001b[0m: 'DataFrame' object has no attribute 'cleaned_review'"
     ]
    }
   ],
   "source": [
    "X = df.cleaned_review\n",
    "X_stemming = df.cleaned_review_stemming\n",
    "y = df.is_spoiler"
   ]
  },
  {
   "cell_type": "markdown",
   "id": "5be0e1cb-a7d0-45b0-9041-8fd112d1c464",
   "metadata": {},
   "source": [
    "### MODEL EVALUTATION & SELECTION¶\n",
    "In this section we have performed all the operation needed to evalute and select the model. As the task is a binary classification problem, we have analyzed the performances of three types of classification models:\n",
    "\n",
    "-> Naive Bayes Multinomial\n",
    "\n",
    "-> Support Vector Machine\n",
    "\n",
    "-> Logistic Regression\n",
    "\n",
    "To do these operations and handle the dataset distribution we have used the sklean and imblearn libraries. \\ We have performed the K-cross validation to evalute the model and select it."
   ]
  },
  {
   "cell_type": "code",
   "execution_count": null,
   "id": "59bd5961-371d-4b0d-af1b-6363ef5b0c99",
   "metadata": {},
   "outputs": [],
   "source": [
    "from imblearn.pipeline import Pipeline, make_pipeline\n",
    "from imblearn.under_sampling import RandomUnderSampler\n",
    "\n",
    "from sklearn.feature_extraction.text import TfidfVectorizer\n",
    "from sklearn.metrics import make_scorer, accuracy_score, precision_score, recall_score, f1_score\n",
    "\n",
    "from sklearn.model_selection import cross_validate\n",
    "\n",
    "from sklearn.naive_bayes import MultinomialNB\n",
    "from sklearn.svm import LinearSVC\n",
    "from sklearn.linear_model import LogisticRegression"
   ]
  },
  {
   "cell_type": "markdown",
   "id": "96671643-4bb7-4405-a1d5-9349324f9b8c",
   "metadata": {},
   "source": [
    "Functions to apply cross-validation and to monitor the classifier measures"
   ]
  },
  {
   "cell_type": "code",
   "execution_count": null,
   "id": "adf1f4cf-0e98-4939-bef3-42b68aef621c",
   "metadata": {},
   "outputs": [],
   "source": [
    "def print_kfold_scores(scores):\n",
    "    print(\"Accuracy = \", scores['test_accuracy'])\n",
    "    print(\"\")\n",
    "    print(\"Precision = \", scores['test_precision'])\n",
    "    print(\"\")\n",
    "    print(\"Recall = \", scores['test_recall'])\n",
    "    print(\"\")\n",
    "    print(\"F1 score = \", scores['test_f1_score'])\n",
    "    print(\"\")\n",
    "    print(\"fit_time (s) = \", scores['fit_time'])\n",
    "    print(\"\")\n",
    "    print(\"score_time (s) = \", scores['score_time'])"
   ]
  },
  {
   "cell_type": "code",
   "execution_count": null,
   "id": "0a38b24b-3b52-404f-9325-51ffa0269fd7",
   "metadata": {},
   "outputs": [],
   "source": [
    "def print_cross_validation(score, stemming):\n",
    "    if stemming:\n",
    "        print(\"--------------    K-FOLD WITH STEMMING    --------------\\n\")\n",
    "        print_kfold_scores(score)\n",
    "    else:\n",
    "        print(\"--------------    K-FOLD WITHOUT STEMMING    --------------\\n\")\n",
    "        print_kfold_scores(score)"
   ]
  },
  {
   "cell_type": "code",
   "execution_count": null,
   "id": "f1614884-29a9-442a-942f-ce0eaa3e5275",
   "metadata": {},
   "outputs": [],
   "source": [
    "scoring = {\n",
    "    'accuracy' : make_scorer(accuracy_score), \n",
    "    'precision' : make_scorer(precision_score),\n",
    "    'recall' : make_scorer(recall_score), \n",
    "    'f1_score' : make_scorer(f1_score)\n",
    "}"
   ]
  },
  {
   "cell_type": "code",
   "execution_count": null,
   "id": "ef7fd0c4-dd1c-406e-8aa5-b67f11e24bff",
   "metadata": {},
   "outputs": [],
   "source": [
    "from sklearn.model_selection import StratifiedKFold\n",
    "\n",
    "n_folds = 10\n",
    "skf = StratifiedKFold(n_folds)"
   ]
  },
  {
   "cell_type": "code",
   "execution_count": null,
   "id": "62ba0819-5541-4d38-a1f4-10e6d0d08ff1",
   "metadata": {},
   "outputs": [],
   "source": [
    "def apply_cross_validation(clf, X, y, ngrams = (1,1), sampling_ratio = -1, n_jobs = 5, stemming = False):\n",
    "    '''\n",
    "    \n",
    "    '''\n",
    "    \n",
    "    if sampling_ratio == -1: \n",
    "        clf_pipeline = Pipeline([\n",
    "            ('vect', TfidfVectorizer(ngram_range=ngrams)),\n",
    "            ('clf', clf)\n",
    "        ])\n",
    "    else:\n",
    "        clf_pipeline = Pipeline([\n",
    "            ('vect', TfidfVectorizer(ngram_range=ngrams)),\n",
    "            ('rus', RandomUnderSampler(sampling_strategy=sampling_ratio)),\n",
    "            ('clf', clf)\n",
    "        ])\n",
    "    \n",
    "    score = cross_validate(clf_pipeline, X, y, cv = skf, scoring=scoring, n_jobs = n_jobs)\n",
    "    \n",
    "    print_cross_validation(score, stemming)\n",
    "    \n",
    "    return clf_pipeline, score"
   ]
  },
  {
   "cell_type": "markdown",
   "id": "b17d9cfc-7118-4916-9686-fbd78721b414",
   "metadata": {},
   "source": [
    "### COMPARE MODELS USING DATASET DISTRIBUTION\n",
    "We have applied the cross-validation with imbalanced-distribution to compare how classifier works on the general dataset and decide which models analyze in more details.\n",
    "\n",
    "#### MULTINOMIAL"
   ]
  },
  {
   "cell_type": "code",
   "execution_count": null,
   "id": "a926b1ca-e53d-4849-affe-163e9d72bacd",
   "metadata": {},
   "outputs": [],
   "source": [
    "# Apply cross-validation\n",
    "clf_pipeline, score = apply_cross_validation(MultinomialNB(), X, y) \n",
    "\n",
    "# Register average precision and recall\n",
    "avg_multinomial_precision = statistics.mean(score['test_precision'])\n",
    "avg_multinomial_recall = statistics.mean(score['test_recall'])"
   ]
  },
  {
   "cell_type": "markdown",
   "id": "d19590ba-a5d0-4d92-8b20-4369bcc78761",
   "metadata": {},
   "source": [
    "#### SVM"
   ]
  },
  {
   "cell_type": "code",
   "execution_count": null,
   "id": "e088f362-e5e9-426e-9bc8-dac376b8d764",
   "metadata": {},
   "outputs": [],
   "source": [
    "# Apply cross-validation\n",
    "clf_pipeline, score = apply_cross_validation(LinearSVC(), X, y)\n",
    "\n",
    "# Register average precision and recall\n",
    "avg_svm_precision = statistics.mean(score['test_precision'])\n",
    "avg_svm_recall = statistics.mean(score['test_recall'])"
   ]
  },
  {
   "cell_type": "markdown",
   "id": "3dfc8af8-c55a-451d-afe3-46f9d154ed1a",
   "metadata": {},
   "source": [
    "#### LOGISTIC"
   ]
  },
  {
   "cell_type": "code",
   "execution_count": null,
   "id": "2d2173a1-ebc2-40a8-ace4-fc39acc9476d",
   "metadata": {},
   "outputs": [],
   "source": [
    "# Apply cross-validation\n",
    "clf_pipeline, score = apply_cross_validation(LogisticRegression(max_iter=10000), X, y)\n",
    "\n",
    "# Register average precision and recall\n",
    "avg_logistic_precision = statistics.mean(score['test_precision'])\n",
    "avg_logistic_recall = statistics.mean(score['test_recall'])"
   ]
  },
  {
   "cell_type": "code",
   "execution_count": null,
   "id": "2d6937d6-0006-4c21-be88-c9c351d8268b",
   "metadata": {},
   "outputs": [],
   "source": [
    "pd.DataFrame([\n",
    "    [avg_multinomial_precision, avg_multinomial_recall],\n",
    "    [avg_svm_precision, avg_svm_recall],\n",
    "    [avg_logistic_precision, avg_logistic_recall]\n",
    "], index = ['Multinomial', 'SVM', 'Logistic'], columns=['AVG_Precision', 'AVG_Recall'])"
   ]
  },
  {
   "cell_type": "markdown",
   "id": "9c2ebc1f-8d4e-4400-a8f8-940282bb2808",
   "metadata": {},
   "source": [
    "### COMPARE THE MODELS PLOTTING AVG PRECISION-RECALL"
   ]
  },
  {
   "cell_type": "code",
   "execution_count": null,
   "id": "3bd63e48-bd21-43fc-8555-0626f0e0218a",
   "metadata": {},
   "outputs": [],
   "source": [
    "plt.scatter(avg_multinomial_precision, avg_multinomial_recall, color ='blue')\n",
    "plt.scatter(avg_svm_precision, avg_svm_recall, color ='orange')\n",
    "plt.scatter(avg_logistic_precision, avg_logistic_recall, color ='red')\n",
    "labels = [\"multinomial\", \"svm\", \"logistic\"]\n",
    "\n",
    "plt.xlim([0, 1]) \n",
    "plt.ylim([0, 1]) \n",
    "\n",
    "plt.xlabel('precision')\n",
    "plt.ylabel('recall')\n",
    "\n",
    "plt.legend(labels=labels)\n",
    "\n",
    "plt.title('MODEL COMPARISON ON DATASET DISTRIB. MULTINOMIAL/SVM/LOGISTIC \\n')\n",
    "\n",
    "plt.show()"
   ]
  },
  {
   "cell_type": "markdown",
   "id": "5bdd5aba-e325-4ad1-83fd-8e017eaec20a",
   "metadata": {},
   "source": [
    "As we can see from the plot, the multinomial model works really bad in terms of precision and recall in respect to the other two classifiers. Due to this, we have decided to perform the analysis changing parameters and distribution only to SVM and Logistic models.\n",
    "\n",
    "### COMPARING SVM AND LOGISTIC SCORES\n",
    "In this section we have compared the SVM and Logistic model changing parameters of CountVectorizer and the distribution of the classes. We have also analyzed if the stemming is relevant in terms of increasing the model's performances.\n",
    "\n",
    "#### SVM"
   ]
  },
  {
   "cell_type": "code",
   "execution_count": null,
   "id": "8863ccf6-c907-404d-9c16-2f86d726b024",
   "metadata": {},
   "outputs": [],
   "source": [
    "from sklearn.svm import LinearSVC\n",
    "svm_pipelines = []\n",
    "svm_scores = []"
   ]
  },
  {
   "cell_type": "markdown",
   "id": "03ef8e2a-f4ce-46a0-b38b-4175101204b6",
   "metadata": {},
   "source": [
    "Ngram_range (1,1) & Undersampling 50/50¶\n",
    "### With stemming"
   ]
  },
  {
   "cell_type": "code",
   "execution_count": null,
   "id": "7daf7663-4c43-4912-94a2-56311d6e6e11",
   "metadata": {},
   "outputs": [],
   "source": [
    "clf_pipeline, score = apply_cross_validation(LinearSVC(), X, y, sampling_ratio = 1)\n",
    "svm_pipelines.append(clf_pipeline)\n",
    "svm_scores.append(score)"
   ]
  },
  {
   "cell_type": "markdown",
   "id": "35e4ad60-0d85-4194-875a-2343d92858df",
   "metadata": {},
   "source": [
    "### Without stemming"
   ]
  },
  {
   "cell_type": "code",
   "execution_count": null,
   "id": "86386c7d-0463-46cd-98ca-603268d4b412",
   "metadata": {},
   "outputs": [],
   "source": [
    "clf_pipeline, score = apply_cross_validation(LogisticRegression(max_iter=10000), X_stemming, y, sampling_ratio = 1, stemming = True)\n",
    "svm_pipelines.append(clf_pipeline)\n",
    "svm_scores.append(score)"
   ]
  },
  {
   "cell_type": "markdown",
   "id": "e44690e9-f00f-4128-b34a-71034789f3c4",
   "metadata": {},
   "source": [
    "Ngram_range (1,1) & distribution 60 (no spoiler), 40 (spoiler)¶\n",
    "### With stemming"
   ]
  },
  {
   "cell_type": "code",
   "execution_count": null,
   "id": "5e2b3164-872c-466a-9ee1-12e70628a696",
   "metadata": {},
   "outputs": [],
   "source": [
    "clf_pipeline, score = apply_cross_validation(LinearSVC(), X_stemming, y, sampling_ratio = (40/60), stemming = True)\n",
    "svm_pipelines.append(clf_pipeline)\n",
    "svm_scores.append(score)"
   ]
  },
  {
   "cell_type": "markdown",
   "id": "f53311d4-f3c0-406a-ae72-7357163f1c1c",
   "metadata": {},
   "source": [
    "### Without stemming"
   ]
  },
  {
   "cell_type": "code",
   "execution_count": null,
   "id": "52723a60-96a7-416b-86cc-9aad93abd15d",
   "metadata": {},
   "outputs": [],
   "source": [
    "clf_pipeline, score = apply_cross_validation(LinearSVC(), X, y, sampling_ratio = (40/60))\n",
    "svm_pipelines.append(clf_pipeline)\n",
    "svm_scores.append(score)"
   ]
  },
  {
   "cell_type": "markdown",
   "id": "7c28f286-e646-4779-8333-e9f91d56b930",
   "metadata": {},
   "source": [
    "Ngram_range (1,1) & dataset distribution¶\n",
    "### With stemming"
   ]
  },
  {
   "cell_type": "code",
   "execution_count": null,
   "id": "94dee92b-5f0f-494c-86f2-79a71fe0ce3b",
   "metadata": {},
   "outputs": [],
   "source": [
    "clf_pipeline, score = apply_cross_validation(LinearSVC(), X_stemming, y, sampling_ratio = -1, stemming = True)\n",
    "svm_pipelines.append(clf_pipeline)\n",
    "svm_scores.append(score)"
   ]
  },
  {
   "cell_type": "markdown",
   "id": "8e50cd35-a04b-4ffc-a869-ea822ccddc4b",
   "metadata": {},
   "source": [
    "### Without stemming"
   ]
  },
  {
   "cell_type": "code",
   "execution_count": null,
   "id": "2c60feb7-0a30-4036-9e8b-49fdaa2df788",
   "metadata": {},
   "outputs": [],
   "source": [
    "clf_pipeline, score = apply_cross_validation(LinearSVC(), X, y, sampling_ratio = -1 )\n",
    "svm_pipelines.append(clf_pipeline)\n",
    "svm_scores.append(score)"
   ]
  },
  {
   "cell_type": "markdown",
   "id": "6674d886-5c20-4e3c-ad25-26b442b5ecce",
   "metadata": {},
   "source": [
    "Ngram_range (1,2) & Undersampling 50/50\n",
    "### With stemming"
   ]
  },
  {
   "cell_type": "code",
   "execution_count": null,
   "id": "aac38519-8d20-4f18-b63d-72abe4ce2df3",
   "metadata": {},
   "outputs": [],
   "source": [
    "clf_pipeline, score = apply_cross_validation(LinearSVC(), X_stemming, y, ngrams= (1,2), sampling_ratio = 1, stemming = True)\n",
    "svm_pipelines.append(clf_pipeline)\n",
    "svm_scores.append(score)"
   ]
  },
  {
   "cell_type": "markdown",
   "id": "c49ae79a-479b-4c50-9caf-21c00dd5d6e3",
   "metadata": {},
   "source": [
    "### Without stemming"
   ]
  },
  {
   "cell_type": "code",
   "execution_count": null,
   "id": "961dab91-6d45-42f6-9884-ee964c05a9a7",
   "metadata": {},
   "outputs": [],
   "source": [
    "clf_pipeline, score = apply_cross_validation(LinearSVC(), X, y, ngrams= (1,2), sampling_ratio = 1)\n",
    "svm_pipelines.append(clf_pipeline)\n",
    "svm_scores.append(score)"
   ]
  },
  {
   "cell_type": "markdown",
   "id": "909b2a45-ea58-4bc6-823a-053b4fde0998",
   "metadata": {},
   "source": [
    "Ngram_range (1,2) & distribution 60 (no spoiler), 40 (spoiler)¶\n",
    "### With stemming"
   ]
  },
  {
   "cell_type": "code",
   "execution_count": null,
   "id": "463ce4ca-aa86-4d70-9896-31b6f2cc7e76",
   "metadata": {},
   "outputs": [],
   "source": [
    "clf_pipeline, score = apply_cross_validation(LinearSVC(), X_stemming, y, ngrams= (1,2), sampling_ratio = (40/60), stemming = True)\n",
    "svm_pipelines.append(clf_pipeline)\n",
    "svm_scores.append(score)"
   ]
  },
  {
   "cell_type": "markdown",
   "id": "d13da62a-02da-4978-bac6-8a853d0dd0e6",
   "metadata": {},
   "source": [
    "### Without stemming"
   ]
  },
  {
   "cell_type": "code",
   "execution_count": null,
   "id": "f27ddd1f-75de-416f-8fed-c021d9d5355c",
   "metadata": {},
   "outputs": [],
   "source": [
    "clf_pipeline, score = apply_cross_validation(LinearSVC(), X, y, ngrams= (1,2), sampling_ratio = (40/60))\n",
    "svm_pipelines.append(clf_pipeline)\n",
    "svm_scores.append(score)"
   ]
  },
  {
   "cell_type": "markdown",
   "id": "cf77285e-792c-4d07-acab-e1a87ab8020f",
   "metadata": {},
   "source": [
    "Ngram_range (1,2) & dataset distribution\n",
    "### With stemming"
   ]
  },
  {
   "cell_type": "code",
   "execution_count": null,
   "id": "22b48e6d-9655-4c09-87e7-0a69f12bf7f6",
   "metadata": {},
   "outputs": [],
   "source": [
    "clf_pipeline, score = apply_cross_validation(LinearSVC(), X_stemming, y, ngrams= (1,2), sampling_ratio = -1, stemming = True)\n",
    "svm_pipelines.append(clf_pipeline)\n",
    "svm_scores.append(score)"
   ]
  },
  {
   "cell_type": "markdown",
   "id": "54df5f6c-0bdd-4043-bccf-bb58e70599bf",
   "metadata": {},
   "source": [
    "### Without stemming"
   ]
  },
  {
   "cell_type": "code",
   "execution_count": null,
   "id": "23bf84c3-30d1-4688-868e-0881443ead18",
   "metadata": {},
   "outputs": [],
   "source": [
    "clf_pipeline, score = apply_cross_validation(LinearSVC(), X, y, ngrams= (1,2), sampling_ratio = -1 )\n",
    "svm_pipelines.append(clf_pipeline)\n",
    "svm_scores.append(score)"
   ]
  },
  {
   "cell_type": "markdown",
   "id": "cbd546e2-66e1-41af-a5c8-4889885d576b",
   "metadata": {},
   "source": [
    "### LogisticRegression"
   ]
  },
  {
   "cell_type": "code",
   "execution_count": null,
   "id": "6fb9c679-2c74-4bdb-b880-4b54d14e8327",
   "metadata": {},
   "outputs": [],
   "source": [
    "from sklearn.linear_model import LogisticRegression\n",
    "logistic_pipelines = []\n",
    "logistic_scores = []"
   ]
  },
  {
   "cell_type": "markdown",
   "id": "9a657d04-fcd3-43f1-a3a1-808b81a3784a",
   "metadata": {},
   "source": [
    "Ngram_range (1,1) & Undersampling 50/50\n",
    "### With stemming"
   ]
  },
  {
   "cell_type": "code",
   "execution_count": null,
   "id": "cedd74e9-a909-492f-bc85-90bdba307200",
   "metadata": {},
   "outputs": [],
   "source": [
    "clf_pipeline, score = apply_cross_validation(LogisticRegression(max_iter=10000), X_stemming, y, sampling_ratio = 1, stemming = True)\n",
    "logistic_pipelines.append(clf_pipeline)\n",
    "logistic_scores.append(score)"
   ]
  },
  {
   "cell_type": "markdown",
   "id": "0dab501e-13d6-432c-b499-b46138477071",
   "metadata": {},
   "source": [
    "### Without stemming"
   ]
  },
  {
   "cell_type": "code",
   "execution_count": null,
   "id": "932f4868-1017-4b18-ad7d-c93b59f7a45b",
   "metadata": {},
   "outputs": [],
   "source": [
    "clf_pipeline, score = apply_cross_validation(LogisticRegression(max_iter=10000), X, y, sampling_ratio = 1)\n",
    "logistic_pipelines.append(clf_pipeline)\n",
    "logistic_scores.append(score)"
   ]
  },
  {
   "cell_type": "markdown",
   "id": "0b6179cb-2420-4547-b114-cad6ac9a9591",
   "metadata": {},
   "source": [
    "Ngram_range (1,1) & distribution 60 (no spoiler), 40 (spoiler)\n",
    "### With stemming"
   ]
  },
  {
   "cell_type": "code",
   "execution_count": null,
   "id": "dc1fd5d2-4d7e-47b6-81ae-dcf1147dc973",
   "metadata": {},
   "outputs": [],
   "source": [
    "clf_pipeline, score = apply_cross_validation(LogisticRegression(max_iter=10000), X_stemming, y, sampling_ratio = (40/60), stemming = True)\n",
    "logistic_pipelines.append(clf_pipeline)\n",
    "logistic_scores.append(score)"
   ]
  },
  {
   "cell_type": "markdown",
   "id": "2b56be81-d178-47c7-bc16-428187e5c997",
   "metadata": {},
   "source": [
    "### Without stemming"
   ]
  },
  {
   "cell_type": "code",
   "execution_count": null,
   "id": "f2666784-fe82-44c2-9e3e-5e767e6747d3",
   "metadata": {},
   "outputs": [],
   "source": [
    "clf_pipeline, score = apply_cross_validation(LogisticRegression(max_iter=10000), X, y, sampling_ratio = (40/60))\n",
    "logistic_pipelines.append(clf_pipeline)\n",
    "logistic_scores.append(score)"
   ]
  },
  {
   "cell_type": "markdown",
   "id": "7194a171-b3d8-4074-94cb-e85009a6f72d",
   "metadata": {},
   "source": [
    "Ngram_range (1,1) & dataset distribution\n",
    "### With stemming"
   ]
  },
  {
   "cell_type": "code",
   "execution_count": null,
   "id": "908b0a65-7dc8-41b8-b6b3-88b465ec04bf",
   "metadata": {},
   "outputs": [],
   "source": [
    "clf_pipeline, score = apply_cross_validation(LogisticRegression(max_iter=10000), X_stemming, y, sampling_ratio = -1, stemming = True)\n",
    "logistic_pipelines.append(clf_pipeline)\n",
    "logistic_scores.append(score)"
   ]
  },
  {
   "cell_type": "markdown",
   "id": "b8ac0543-019a-4266-bb68-a49e1c3ce11e",
   "metadata": {},
   "source": [
    "### Without stemming"
   ]
  },
  {
   "cell_type": "code",
   "execution_count": null,
   "id": "fcccdb48-f92d-49e8-a22f-18dd333b85c9",
   "metadata": {},
   "outputs": [],
   "source": [
    "clf_pipeline, score = apply_cross_validation(LogisticRegression(max_iter=10000), X, y, sampling_ratio = -1 )\n",
    "logistic_pipelines.append(clf_pipeline)\n",
    "logistic_scores.append(score)"
   ]
  },
  {
   "cell_type": "markdown",
   "id": "b8270fb5-aa2a-4a24-aa01-443426f79539",
   "metadata": {},
   "source": [
    "Ngram_range (1,2) & Undersampling 50/50\n",
    "### With stemming"
   ]
  },
  {
   "cell_type": "code",
   "execution_count": null,
   "id": "e1144ada-3508-42cb-afe8-6aaff66378f4",
   "metadata": {},
   "outputs": [],
   "source": [
    "clf_pipeline, score = apply_cross_validation(LogisticRegression(max_iter=10000), X_stemming, y, ngrams= (1,2), sampling_ratio = 1, stemming = True)\n",
    "logistic_pipelines.append(clf_pipeline)\n",
    "logistic_scores.append(score)"
   ]
  },
  {
   "cell_type": "markdown",
   "id": "bed6c967-26ee-4a0d-a729-e40d540d802e",
   "metadata": {},
   "source": [
    "### Without stemming"
   ]
  },
  {
   "cell_type": "code",
   "execution_count": null,
   "id": "4afaac52-3a94-4202-ae25-874db4ae65b7",
   "metadata": {},
   "outputs": [],
   "source": [
    "clf_pipeline, score = apply_cross_validation(LogisticRegression(max_iter=10000), X, y, ngrams= (1,2), sampling_ratio = 1)\n",
    "logistic_pipelines.append(clf_pipeline)\n",
    "logistic_scores.append(score)"
   ]
  },
  {
   "cell_type": "markdown",
   "id": "e2cad1de-9b8a-415a-ae09-7a498823b49b",
   "metadata": {},
   "source": [
    "Ngram_range (1,2) & distribution 60 (no spoiler), 40 (spoiler)\n",
    "### With stemming"
   ]
  },
  {
   "cell_type": "code",
   "execution_count": null,
   "id": "aa845ced-2748-477a-8138-d9b8710cb80b",
   "metadata": {},
   "outputs": [],
   "source": [
    "clf_pipeline, score = apply_cross_validation(LogisticRegression(max_iter=10000), X_stemming, y, ngrams= (1,2), sampling_ratio = (40/60), stemming = True)\n",
    "logistic_pipelines.append(clf_pipeline)\n",
    "logistic_scores.append(score)"
   ]
  },
  {
   "cell_type": "markdown",
   "id": "d99fbb0f-b88e-4e8d-87f2-19e34aeedde6",
   "metadata": {},
   "source": [
    "### Without stemming"
   ]
  },
  {
   "cell_type": "code",
   "execution_count": null,
   "id": "7daf9864-0cfa-4ddc-a8b7-234926ce4122",
   "metadata": {},
   "outputs": [],
   "source": [
    "clf_pipeline, score = apply_cross_validation(LogisticRegression(max_iter=10000), X, y, ngrams= (1,2), sampling_ratio = (40/60))\n",
    "logistic_pipelines.append(clf_pipeline)\n",
    "logistic_scores.append(score)"
   ]
  },
  {
   "cell_type": "markdown",
   "id": "7c406125-c5a7-4c19-a628-2df3a89db7c6",
   "metadata": {},
   "source": [
    "Ngram_range (1,2) & dataset distribution\n",
    "### With stemming"
   ]
  },
  {
   "cell_type": "code",
   "execution_count": null,
   "id": "976ee4df-45f5-4b9f-b0c5-a35e89d15465",
   "metadata": {},
   "outputs": [],
   "source": [
    "clf_pipeline, score = apply_cross_validation(LogisticRegression(max_iter=10000), X_stemming, y, ngrams= (1,2), sampling_ratio = -1, stemming = True)\n",
    "logistic_pipelines.append(clf_pipeline)\n",
    "logistic_scores.append(score)"
   ]
  },
  {
   "cell_type": "markdown",
   "id": "9ffa075a-5b95-4457-8cd2-ed0c31054ba6",
   "metadata": {},
   "source": [
    "### Without stemming"
   ]
  },
  {
   "cell_type": "code",
   "execution_count": null,
   "id": "33ce8684-13d8-438a-9ccc-2c1422271a29",
   "metadata": {},
   "outputs": [],
   "source": [
    "clf_pipeline, score = apply_cross_validation(LogisticRegression(max_iter=10000), X, y, ngrams= (1,2), sampling_ratio = -1 )\n",
    "logistic_pipelines.append(clf_pipeline)\n",
    "logistic_scores.append(score)"
   ]
  },
  {
   "cell_type": "code",
   "execution_count": null,
   "id": "82260293-7837-449d-a746-d00fa2d284da",
   "metadata": {},
   "outputs": [],
   "source": [
    "indexes=[\n",
    "    \"ngram_1_1-sample5050\",\n",
    "    \"ngram_1_1-sample5050_stem\",\n",
    "    \"ngram_1_1-sample6040\",\n",
    "    \"ngram_1_1-sample6040_stem\",\n",
    "    \"ngram_1_1-sampledataset\",\n",
    "    \"ngram_1_1-sampledataset_stem\",\n",
    "    \"ngram_1_2-sample5050\",\n",
    "    \"ngram_1_2-sample5050_stem\",\n",
    "    \"ngram_1_2-sample6040\",\n",
    "    \"ngram_1_2-sample6040_stem\",\n",
    "    \"ngram_1_2-sampledataset\",\n",
    "    \"ngram_1_2-sampledataset_stem\",\n",
    "]\n",
    "\n",
    "def create_df_scores(scores):\n",
    "    list_scores_precision = []\n",
    "    list_scores_recall = []\n",
    "    for x in scores:\n",
    "        list_scores_precision.append(x['test_precision'])\n",
    "        list_scores_recall.append(x['test_recall'])      \n",
    "                                       \n",
    "    score_df_precision = pd.DataFrame(list_scores_precision, index=indexes)\n",
    "    score_df_recall = pd.DataFrame(list_scores_recall, index=indexes)\n",
    "                                       \n",
    "    score_df_precision['mean'] = score_df_precision.mean(axis=1)\n",
    "    score_df_recall['mean'] = score_df_recall.mean(axis=1)\n",
    "    \n",
    "    score_df = pd.DataFrame([score_df_precision['mean'],score_df_recall['mean']]).T\n",
    "    score_df.columns = ['avg_precision', 'avg_recall']\n",
    "    \n",
    "    return score_df"
   ]
  },
  {
   "cell_type": "markdown",
   "id": "389ca2cd-6ea6-41d5-b6a4-2550482a9962",
   "metadata": {},
   "source": [
    "### SVM SCORES"
   ]
  },
  {
   "cell_type": "code",
   "execution_count": null,
   "id": "4bcc10f3-c893-4bab-8bdf-54599bfeab1c",
   "metadata": {},
   "outputs": [],
   "source": [
    "svm_df_scores = create_df_scores(svm_scores)\n",
    "svm_df_scores"
   ]
  },
  {
   "cell_type": "markdown",
   "id": "a2dbd0d0-e6fb-45e9-9c35-7248693a5c55",
   "metadata": {},
   "source": [
    "### Drop SVM stemming result\n",
    "We decided to drop the SVM stemming results 'cause it doesn't improve the Accuracy and Precision"
   ]
  },
  {
   "cell_type": "code",
   "execution_count": null,
   "id": "bd48595b-2afb-4fe4-93b7-255201ac8aeb",
   "metadata": {},
   "outputs": [],
   "source": [
    "svm_df_scores = svm_df_scores.drop(index=[\n",
    "    'ngram_1_1-sample5050_stem',\n",
    "    'ngram_1_1-sample6040_stem',\n",
    "    'ngram_1_1-sampledataset_stem',\n",
    "    'ngram_1_2-sample5050_stem',\n",
    "    'ngram_1_2-sample6040_stem',\n",
    "    'ngram_1_2-sampledataset_stem'\n",
    "])"
   ]
  },
  {
   "cell_type": "code",
   "execution_count": null,
   "id": "9e229673-3a12-4f11-9c07-745cc7a1b7e0",
   "metadata": {},
   "outputs": [],
   "source": [
    "### LOGISTIC REGRESSION SCORES"
   ]
  },
  {
   "cell_type": "code",
   "execution_count": null,
   "id": "70553e75-f5ef-4bab-84cc-363dbe20fa71",
   "metadata": {},
   "outputs": [],
   "source": [
    "logistic_df_scores = create_df_scores(logistic_scores)\n",
    "logistic_df_scores"
   ]
  },
  {
   "cell_type": "markdown",
   "id": "9bd23c6f-684a-4d5f-8e3e-82612008afc4",
   "metadata": {},
   "source": [
    "### Drop Logistic stemming result\n",
    "We decided to drop the Logistic stemming result 'cause it doesn't improve the Accuracy and Precision"
   ]
  },
  {
   "cell_type": "code",
   "execution_count": null,
   "id": "2a14aa17-eb74-4cac-9ef7-1979816e5a7c",
   "metadata": {},
   "outputs": [],
   "source": [
    "logistic_df_scores = logistic_df_scores.drop(index=[\n",
    "    'ngram_1_1-sample5050_stem',\n",
    "    'ngram_1_1-sample6040_stem',\n",
    "    'ngram_1_1-sampledataset_stem',\n",
    "    'ngram_1_2-sample5050_stem',\n",
    "    'ngram_1_2-sample6040_stem',\n",
    "    'ngram_1_2-sampledataset_stem'\n",
    "])"
   ]
  },
  {
   "cell_type": "code",
   "execution_count": null,
   "id": "63a8acd3-67f0-41eb-900e-26eb5507f704",
   "metadata": {},
   "outputs": [],
   "source": [
    "### EXTRACT ONLY RELEVANT RESULTS¶\n",
    "We have considered as relevant results the results that had precision and recall > 0.45"
   ]
  },
  {
   "cell_type": "code",
   "execution_count": null,
   "id": "daab9b67-4c6d-4840-b35c-ae8757f0f9c4",
   "metadata": {},
   "outputs": [],
   "source": [
    "def get_relevant_results(df_precision, df_recall):\n",
    "    \n",
    "    indexes_precision = df_precision.loc[(\n",
    "        df_precision > 0.45\n",
    "    )].index\n",
    "    \n",
    "    indexes_recall = df_recall.loc[(\n",
    "        df_recall > 0.45\n",
    "    )].index\n",
    "    \n",
    "    indexes = [x for x in indexes_precision if x in indexes_recall]\n",
    "    \n",
    "    return indexes"
   ]
  },
  {
   "cell_type": "markdown",
   "id": "fdd474d3-c0ec-447c-bca6-7b3fcab71787",
   "metadata": {},
   "source": [
    "### SVM RELEVANT RESULTS"
   ]
  },
  {
   "cell_type": "code",
   "execution_count": null,
   "id": "b79ba0d5-52de-4928-bed6-9280d571d54d",
   "metadata": {},
   "outputs": [],
   "source": [
    "svm_indexes = get_relevant_results(svm_df_scores['avg_precision'], svm_df_scores['avg_recall'])\n",
    "svm_results = pd.DataFrame([svm_df_scores['avg_precision'].rename('precision'),svm_df_scores['avg_recall'].rename('recall')]).T.loc[svm_indexes]\n",
    "svm_results"
   ]
  },
  {
   "cell_type": "markdown",
   "id": "fdeea763-2506-4d4a-926a-ccf0bb5760e1",
   "metadata": {},
   "source": [
    "### SVM RELEVANT RESULTS"
   ]
  },
  {
   "cell_type": "code",
   "execution_count": null,
   "id": "7a61a707-ca2e-40c3-95a0-9b16a74e99ac",
   "metadata": {},
   "outputs": [],
   "source": [
    "logistic_indexes = get_relevant_results(logistic_df_scores['avg_precision'], logistic_df_scores['avg_recall'])\n",
    "logistic_results = pd.DataFrame([logistic_df_scores['avg_precision'].rename('precision'),logistic_df_scores['avg_recall'].rename('recall')]).T.loc[logistic_indexes]\n",
    "logistic_results"
   ]
  },
  {
   "cell_type": "markdown",
   "id": "8e79daae-8859-4644-80fb-b1ff9748d6d4",
   "metadata": {},
   "source": [
    "### COMPARISON OF BEST RESULTS OF SVM & LOGISTC¶\n",
    "In this subsection we compared the performance of SVM and Logistic after changing some count vectorizer parameters and distribution of class in the train dataset."
   ]
  },
  {
   "cell_type": "code",
   "execution_count": null,
   "id": "5a229a4d-5926-4847-a791-daf66b6bdef5",
   "metadata": {},
   "outputs": [],
   "source": [
    "plt.scatter(svm_results['precision'], svm_results['recall'], color ='tab:blue')\n",
    "plt.scatter(logistic_results['precision'], logistic_results['recall'], color ='tab:orange')\n",
    "\n",
    "plt.xlim([0.4, 0.6]) \n",
    "plt.ylim([0.45, 0.7]) \n",
    "\n",
    "plt.xlabel('precision')\n",
    "plt.ylabel('recall')\n",
    "\n",
    "plt.legend(labels=['svm','logistic'])\n",
    "\n",
    "plt.title('MODEL COMPARISON SVM/LOGISTIC')\n",
    "\n",
    "plt.show()"
   ]
  },
  {
   "cell_type": "markdown",
   "id": "847e1d73-f5a5-418f-9144-a9828af79f8e",
   "metadata": {},
   "source": [
    "Since in our application the recall measure is more relevant respect to the precision since it is better to detect a true spoiler review as spoiler than classifying wrong the non-spoiler reviews. \\ Even if the SVM gives a result that has precision and recall > 0.5, we decided to get more in details with the Logistic model since it gives the best results in terms of recall and gives acceptable results in terms of precision.\n",
    "\n",
    "### LOGISTIC MODEL SELECTION BASED ON PRECISION/RECALL\n",
    "We have analyzed the best results only for logistic model and decided that the best model in this case is the one with parameters { ngram=(1,2), sample=(50/50)} which has a better recall and gives an acceptable precision."
   ]
  },
  {
   "cell_type": "code",
   "execution_count": null,
   "id": "fa3832e1-51c8-4cbe-9952-0d232043a1a8",
   "metadata": {},
   "outputs": [],
   "source": [
    "colors = ['orange','blue', 'red']\n",
    "\n",
    "for i in range(logistic_results.shape[0]):\n",
    "    plt.scatter(logistic_results.precision[i], logistic_results.recall[i], color = colors[i])\n",
    "\n",
    "plt.xlim([0.45, 0.6]) \n",
    "plt.ylim([0.45, 0.7]) \n",
    "\n",
    "plt.xlabel('precision')\n",
    "plt.ylabel('recall')\n",
    "\n",
    "plt.legend(labels=logistic_results.index)\n",
    "\n",
    "plt.title('MODEL SELECTION BASED ON PRECISION/RECALL')\n",
    "\n",
    "plt.show()"
   ]
  },
  {
   "cell_type": "markdown",
   "id": "3aecc958-1dca-4cc0-a30c-4cd701bb6608",
   "metadata": {},
   "source": [
    "### MODEL DEPLOY\n",
    "With the model selection that we have performed, we can now deploy the model with the parameters chosen. In this section we will fit the model with all the train dataset and test it with the test set extrapolated in the Data Preprocessing section. \\ To remember: The test set is composed with the latests reviews of the original dataset (2017-01) and we will divide them into K-fold (based on month) to evaluate our final model."
   ]
  },
  {
   "cell_type": "code",
   "execution_count": null,
   "id": "b9b0c290-4bfe-46cc-9c4a-f828fd8ad62b",
   "metadata": {},
   "outputs": [],
   "source": [
    "import joblib\n",
    "\n",
    "text_clf = Pipeline([\n",
    "            ('vect', TfidfVectorizer(ngram_range=(1,2))),\n",
    "            ('rus', RandomUnderSampler(sampling_strategy=(50/50))),\n",
    "            ('clf', LogisticRegression(max_iter=10000))\n",
    "        ])\n",
    "\n",
    "text_clf.fit(X,y)"
   ]
  },
  {
   "cell_type": "markdown",
   "id": "63c02461-afbb-4973-b889-76abb9f046ed",
   "metadata": {},
   "source": [
    "### EVALUATE THE MODEL"
   ]
  },
  {
   "cell_type": "code",
   "execution_count": null,
   "id": "7485f373-0171-452a-8ce9-81df8e38bcda",
   "metadata": {},
   "outputs": [],
   "source": [
    "# Load the test set\n",
    "df_test = pd.read_csv('./test_set.csv')"
   ]
  },
  {
   "cell_type": "code",
   "execution_count": null,
   "id": "0f833623-095d-40e0-9b56-769bc37fccc5",
   "metadata": {},
   "outputs": [],
   "source": [
    "# Create K-fold based on month division using test dateset\n",
    "\n",
    "df_test.index = pd.to_datetime(df_test['review_date'],format='%Y-%m-%d')\n",
    "\n",
    "# Groupby month\n",
    "group = df_test.groupby(pd.Grouper(freq='M'))\n",
    "\n",
    "# Divide month value in K-folds\n",
    "folds = []\n",
    "group.apply(lambda x: folds.append(pd.DataFrame(x)))\n",
    "\n",
    "for fold in folds:\n",
    "    fold.reset_index(drop=True, inplace=True)"
   ]
  },
  {
   "cell_type": "markdown",
   "id": "baebb7fa-0af0-493d-985b-645d1398b786",
   "metadata": {},
   "source": [
    "### Test set class distribution"
   ]
  },
  {
   "cell_type": "code",
   "execution_count": null,
   "id": "b3ef1ee9-98c7-4758-a3a9-87a9714f276a",
   "metadata": {},
   "outputs": [],
   "source": [
    "labels = []\n",
    "spoiler_list = []\n",
    "spoiler_distribs = []\n",
    "not_spoiler_list = []\n",
    "not_spoiler_distribs = []\n",
    "\n",
    "for fold in folds:\n",
    "    # Extract month and year \n",
    "    month_year = datetime.strptime(fold['review_date'][0],\"%Y-%m-%d\").strftime('%Y-%m')\n",
    "    \n",
    "    # Number of the total review in the fold\n",
    "    review_number = len(fold['is_spoiler'])\n",
    "    \n",
    "    # Number of spoiler/not spoiler review in the folt \n",
    "    spoiler = int(fold['is_spoiler'][fold['is_spoiler']==1].value_counts())\n",
    "    not_spoiler = int(fold['is_spoiler'][fold['is_spoiler']==0].value_counts())\n",
    "    \n",
    "    # Compute distribution \n",
    "    spoiler_distrib = spoiler/review_number\n",
    "    not_spoiler_distrib = not_spoiler/review_number\n",
    "    \n",
    "    # List to plot values\n",
    "    labels.append(month_year)\n",
    "\n",
    "    spoiler_list.append(spoiler)\n",
    "    not_spoiler_list.append(not_spoiler)\n",
    "    \n",
    "    spoiler_distribs.append(spoiler_distrib)\n",
    "    not_spoiler_distribs.append(not_spoiler_distrib)\n",
    "\n",
    "    \n",
    "# ------ PLOT ------ #\n",
    "    \n",
    "width = 0.35\n",
    "fig, (ax1, ax2) = plt.subplots(1, 2, figsize=(20,7))\n",
    "\n",
    "ax1.bar(labels, not_spoiler_list, width, label='Not_spoiler')\n",
    "ax1.bar(labels, spoiler_list, width, bottom=not_spoiler_list, label='Spoiler')\n",
    "\n",
    "ax1.set_ylabel('Number of instances')\n",
    "ax1.set_title('Instances by month and spoiler')\n",
    "ax1.tick_params(axis='x', rotation=45)\n",
    "ax1.legend()\n",
    "\n",
    "\n",
    "ax2.bar(labels, not_spoiler_distribs, width, label='Not_spoiler')\n",
    "ax2.bar(labels, spoiler_distribs, width, bottom=not_spoiler_distribs, label='Spoiler')\n",
    "\n",
    "ax2.set_ylabel('Monthly distribution of spoilers')\n",
    "ax2.set_title('Distribution percentage')\n",
    "ax2.tick_params(axis='x', rotation=45)\n",
    "ax2.legend()\n",
    "\n",
    "plt.show()"
   ]
  },
  {
   "cell_type": "markdown",
   "id": "d5e75782-f8a2-4e31-85c9-d3931d0b93b3",
   "metadata": {},
   "source": [
    "### Evaluate the model on the K-folds"
   ]
  },
  {
   "cell_type": "code",
   "execution_count": null,
   "id": "e0a1c055-6183-4eb9-a8f1-b78d2787c1b7",
   "metadata": {},
   "outputs": [],
   "source": [
    "test_precision_list = []\n",
    "test_recall_list = []\n",
    "labels = []\n",
    "\n",
    "for fold in folds:\n",
    "    # Extract month and year \n",
    "    month_year = datetime.strptime(fold['review_date'][0],\"%Y-%m-%d\").strftime('%Y-%m')\n",
    "    \n",
    "    # Predict values on the fold \n",
    "    y_pred_class = text_clf.predict(fold['cleaned_review'])\n",
    "    \n",
    "    # Compute precision and recall on the fold\n",
    "    precision = precision_score(fold['is_spoiler'], y_pred_class)\n",
    "    recall = recall_score(fold['is_spoiler'], y_pred_class)\n",
    "    \n",
    "    test_precision_list.append(precision)\n",
    "    test_recall_list.append(recall)\n",
    "    labels.append(month_year)\n",
    "\n",
    "# Create dataframe with precision-recall foreach fold\n",
    "test_scores = pd.DataFrame([test_precision_list, test_recall_list]).T\n",
    "test_scores.columns = [\"Precision\", \"Recall\"]\n",
    "test_scores.index = labels\n",
    "\n",
    "test_scores"
   ]
  },
  {
   "cell_type": "markdown",
   "id": "cb155cb8-0c89-412f-8d76-798c0c9e2299",
   "metadata": {},
   "source": [
    "### EXPORT THE MODEL"
   ]
  },
  {
   "cell_type": "code",
   "execution_count": null,
   "id": "d48249bc-d043-43b1-814f-10d37df1e53d",
   "metadata": {},
   "outputs": [],
   "source": [
    "# joblib.dump(text_clf, 'SpoilerDetector.pkl')"
   ]
  }
 ],
 "metadata": {
  "kernelspec": {
   "display_name": "Python 3 (ipykernel)",
   "language": "python",
   "name": "python3"
  },
  "language_info": {
   "codemirror_mode": {
    "name": "ipython",
    "version": 3
   },
   "file_extension": ".py",
   "mimetype": "text/x-python",
   "name": "python",
   "nbconvert_exporter": "python",
   "pygments_lexer": "ipython3",
   "version": "3.11.8"
  }
 },
 "nbformat": 4,
 "nbformat_minor": 5
}
